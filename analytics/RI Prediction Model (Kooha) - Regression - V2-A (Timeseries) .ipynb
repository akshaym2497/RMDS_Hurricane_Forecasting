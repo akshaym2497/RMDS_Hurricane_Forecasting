{
 "cells": [
  {
   "cell_type": "code",
   "execution_count": 1,
   "metadata": {},
   "outputs": [],
   "source": [
    "# Python code to build Machine Learning model for hurricane intensity forecast  \n",
    "import pandas as pd # For data manipulation and analysis\n",
    "pd.set_option('display.max_columns', 500)\n",
    "import numpy as np # For scientific computing\n",
    "import statistics\n",
    "import time\n",
    "from sklearn.metrics import mean_squared_error\n",
    "from math import sqrt\n",
    "import seaborn as sns\n",
    "from numpy import arange\n",
    "\n",
    "\n",
    "#Machine Learning Tools\n",
    "import sklearn # For machine learning library\n",
    "from sklearn.linear_model import LinearRegression\n",
    "from sklearn.tree import DecisionTreeRegressor\n",
    "from sklearn.ensemble import RandomForestRegressor\n",
    "from sklearn.neighbors import KNeighborsRegressor\n",
    "from sklearn.neural_network import MLPRegressor\n",
    "from sklearn.ensemble import StackingRegressor\n",
    "from sklearn.linear_model import Ridge\n",
    "from sklearn.model_selection import KFold\n",
    "import xgboost as xgb\n",
    "\n",
    "\n",
    "#from sklearn.ensemble import ExtraTreesClassifier    # Extra tree classifier\n",
    "from sklearn.metrics import confusion_matrix # Compute confusion matrix to evaluate the accuracy of a classification.\n",
    "from sklearn.metrics import brier_score_loss  # Compute the Brier score\n",
    "from sklearn import metrics\n",
    "from sklearn.metrics import recall_score\n",
    "from sklearn.metrics import precision_score\n",
    "from sklearn.metrics import f1_score\n",
    "from sklearn.metrics import brier_score_loss  # Compute the Brier score\n",
    "from sklearn.model_selection import GridSearchCV\n",
    "\n",
    "\n",
    "import matplotlib.pyplot as plt  #plotting library\n",
    "\n",
    "\n",
    "#Displaying More Rows\n",
    "pd.options.display.max_rows = 500"
   ]
  },
  {
   "cell_type": "code",
   "execution_count": null,
   "metadata": {},
   "outputs": [],
   "source": [
    "# Set up the location of the data\n",
    "fname='SHIPS_RII_fcst_ATL_Alicia.csv'\n",
    "#fname='Dataset_SHIPS_RII_EPAC.csv'\n",
    "\n",
    "# Read SHIPS data\n",
    "ships = pd.read_csv(fname)"
   ]
  }
 ],
 "metadata": {
  "kernelspec": {
   "display_name": "Python 3",
   "language": "python",
   "name": "python3"
  },
  "language_info": {
   "codemirror_mode": {
    "name": "ipython",
    "version": 3
   },
   "file_extension": ".py",
   "mimetype": "text/x-python",
   "name": "python",
   "nbconvert_exporter": "python",
   "pygments_lexer": "ipython3",
   "version": "3.7.6"
  }
 },
 "nbformat": 4,
 "nbformat_minor": 4
}
