{
 "cells": [
  {
   "cell_type": "code",
   "execution_count": 1,
   "metadata": {},
   "outputs": [
    {
     "name": "stdout",
     "output_type": "stream",
     "text": [
      "Collecting gmplot\n",
      "  Downloading gmplot-1.4.1-py3-none-any.whl (164 kB)\n",
      "Requirement already satisfied: requests in c:\\users\\kwonk\\anaconda3\\lib\\site-packages (from gmplot) (2.22.0)\n",
      "Requirement already satisfied: idna<2.9,>=2.5 in c:\\users\\kwonk\\anaconda3\\lib\\site-packages (from requests->gmplot) (2.8)\n",
      "Requirement already satisfied: chardet<3.1.0,>=3.0.2 in c:\\users\\kwonk\\anaconda3\\lib\\site-packages (from requests->gmplot) (3.0.4)\n",
      "Requirement already satisfied: urllib3!=1.25.0,!=1.25.1,<1.26,>=1.21.1 in c:\\users\\kwonk\\anaconda3\\lib\\site-packages (from requests->gmplot) (1.25.8)\n",
      "Requirement already satisfied: certifi>=2017.4.17 in c:\\users\\kwonk\\anaconda3\\lib\\site-packages (from requests->gmplot) (2019.11.28)\n",
      "Installing collected packages: gmplot\n",
      "Successfully installed gmplot-1.4.1\n",
      "Note: you may need to restart the kernel to use updated packages.\n"
     ]
    }
   ],
   "source": [
    "pip install gmplot\n"
   ]
  },
  {
   "cell_type": "code",
   "execution_count": 4,
   "metadata": {},
   "outputs": [],
   "source": [
    "# import folium package \n",
    "import folium \n",
    "  \n",
    "my_map4 = folium.Map(location = [28.5011226, 77.4099794], \n",
    "                                        zoom_start = 12) \n",
    "  \n",
    "folium.Marker([28.704059, 77.102490], \n",
    "              popup = 'Delhi').add_to(my_map4) \n",
    "  \n",
    "folium.Marker([28.5011226, 77.4099794], \n",
    "              popup = 'GeeksforGeeks').add_to(my_map4) \n",
    "  \n",
    "# Add a line to the map by using line method . \n",
    "# it connect both coordiates by the line \n",
    "# line_opacity implies intensity of the line \n",
    "  \n",
    "folium.PolyLine(locations = [(28.704059, 77.102490), (28.5011226, 77.4099794)], \n",
    "                line_opacity = 0.5).add_to(my_map4) \n",
    "  \n",
    "my_map4.save(\"my_map4.html\") "
   ]
  },
  {
   "cell_type": "code",
   "execution_count": null,
   "metadata": {},
   "outputs": [],
   "source": []
  }
 ],
 "metadata": {
  "kernelspec": {
   "display_name": "Python 3",
   "language": "python",
   "name": "python3"
  },
  "language_info": {
   "codemirror_mode": {
    "name": "ipython",
    "version": 3
   },
   "file_extension": ".py",
   "mimetype": "text/x-python",
   "name": "python",
   "nbconvert_exporter": "python",
   "pygments_lexer": "ipython3",
   "version": "3.7.6"
  }
 },
 "nbformat": 4,
 "nbformat_minor": 4
}
