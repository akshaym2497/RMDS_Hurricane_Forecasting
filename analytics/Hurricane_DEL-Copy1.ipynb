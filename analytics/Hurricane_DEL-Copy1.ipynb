{
 "cells": [
  {
   "cell_type": "code",
   "execution_count": 8,
   "metadata": {},
   "outputs": [],
   "source": [
    "import pandas as pd\n",
    "\n",
    "import numpy as np\n",
    "\n",
    "Data = pd.read_csv(\"Dataset_SHIPS_RII_ATL.csv\")"
   ]
  },
  {
   "cell_type": "code",
   "execution_count": 3,
   "metadata": {},
   "outputs": [
    {
     "name": "stdout",
     "output_type": "stream",
     "text": [
      "<class 'pandas.core.frame.DataFrame'>\n",
      "RangeIndex: 7405 entries, 0 to 7404\n",
      "Data columns (total 26 columns):\n",
      "NAME      7405 non-null object\n",
      "DATE      7405 non-null int64\n",
      "HOUR      7405 non-null int64\n",
      "VMX0      7405 non-null int64\n",
      "LAT       7405 non-null float64\n",
      "LON       7405 non-null float64\n",
      "MSLP      7405 non-null int64\n",
      "ID        7405 non-null object\n",
      "DELV12    7405 non-null int64\n",
      "DELV24    7405 non-null int64\n",
      "DELV36    7405 non-null int64\n",
      "DELV48    7405 non-null int64\n",
      "PER       7405 non-null int64\n",
      "SHRD      7405 non-null float64\n",
      "D200      7405 non-null int64\n",
      "RHLO      7405 non-null int64\n",
      "PX30      7405 non-null int64\n",
      "SDBT      7405 non-null float64\n",
      "POT       7405 non-null int64\n",
      "OHC       7405 non-null int64\n",
      "TPW       7405 non-null int64\n",
      "PC2       7405 non-null int64\n",
      "U200      7405 non-null float64\n",
      "TPWC      7405 non-null float64\n",
      "AVBT      7405 non-null int64\n",
      "RSST      7405 non-null float64\n",
      "dtypes: float64(7), int64(17), object(2)\n",
      "memory usage: 1.5+ MB\n"
     ]
    }
   ],
   "source": [
    "Data.info()"
   ]
  },
  {
   "cell_type": "code",
   "execution_count": 9,
   "metadata": {},
   "outputs": [],
   "source": [
    "Data['RI'] = np.where(Data.DELV24 >=30, 1, 0)"
   ]
  },
  {
   "cell_type": "code",
   "execution_count": 10,
   "metadata": {},
   "outputs": [
    {
     "data": {
      "text/html": [
       "<div>\n",
       "<style scoped>\n",
       "    .dataframe tbody tr th:only-of-type {\n",
       "        vertical-align: middle;\n",
       "    }\n",
       "\n",
       "    .dataframe tbody tr th {\n",
       "        vertical-align: top;\n",
       "    }\n",
       "\n",
       "    .dataframe thead th {\n",
       "        text-align: right;\n",
       "    }\n",
       "</style>\n",
       "<table border=\"1\" class=\"dataframe\">\n",
       "  <thead>\n",
       "    <tr style=\"text-align: right;\">\n",
       "      <th></th>\n",
       "      <th>NAME</th>\n",
       "      <th>DATE</th>\n",
       "      <th>HOUR</th>\n",
       "      <th>VMX0</th>\n",
       "      <th>LAT</th>\n",
       "      <th>LON</th>\n",
       "      <th>MSLP</th>\n",
       "      <th>ID</th>\n",
       "      <th>DELV12</th>\n",
       "      <th>DELV24</th>\n",
       "      <th>...</th>\n",
       "      <th>SDBT</th>\n",
       "      <th>POT</th>\n",
       "      <th>OHC</th>\n",
       "      <th>TPW</th>\n",
       "      <th>PC2</th>\n",
       "      <th>U200</th>\n",
       "      <th>TPWC</th>\n",
       "      <th>AVBT</th>\n",
       "      <th>RSST</th>\n",
       "      <th>RI</th>\n",
       "    </tr>\n",
       "  </thead>\n",
       "  <tbody>\n",
       "    <tr>\n",
       "      <td>0</td>\n",
       "      <td>ALEX</td>\n",
       "      <td>980727</td>\n",
       "      <td>12</td>\n",
       "      <td>25</td>\n",
       "      <td>11.3</td>\n",
       "      <td>-25.4</td>\n",
       "      <td>1009</td>\n",
       "      <td>AL011998</td>\n",
       "      <td>0</td>\n",
       "      <td>5</td>\n",
       "      <td>...</td>\n",
       "      <td>13.8</td>\n",
       "      <td>-101</td>\n",
       "      <td>12</td>\n",
       "      <td>0</td>\n",
       "      <td>-58</td>\n",
       "      <td>-7.9</td>\n",
       "      <td>55.7</td>\n",
       "      <td>-473</td>\n",
       "      <td>27.4</td>\n",
       "      <td>0</td>\n",
       "    </tr>\n",
       "    <tr>\n",
       "      <td>1</td>\n",
       "      <td>ALEX</td>\n",
       "      <td>980727</td>\n",
       "      <td>18</td>\n",
       "      <td>25</td>\n",
       "      <td>11.7</td>\n",
       "      <td>-27.2</td>\n",
       "      <td>1009</td>\n",
       "      <td>AL011998</td>\n",
       "      <td>0</td>\n",
       "      <td>5</td>\n",
       "      <td>...</td>\n",
       "      <td>12.6</td>\n",
       "      <td>-102</td>\n",
       "      <td>17</td>\n",
       "      <td>0</td>\n",
       "      <td>-10</td>\n",
       "      <td>-6.4</td>\n",
       "      <td>55.7</td>\n",
       "      <td>-360</td>\n",
       "      <td>27.4</td>\n",
       "      <td>0</td>\n",
       "    </tr>\n",
       "    <tr>\n",
       "      <td>2</td>\n",
       "      <td>ALEX</td>\n",
       "      <td>980728</td>\n",
       "      <td>0</td>\n",
       "      <td>25</td>\n",
       "      <td>12.2</td>\n",
       "      <td>-29.2</td>\n",
       "      <td>1009</td>\n",
       "      <td>AL011998</td>\n",
       "      <td>5</td>\n",
       "      <td>10</td>\n",
       "      <td>...</td>\n",
       "      <td>12.8</td>\n",
       "      <td>-105</td>\n",
       "      <td>21</td>\n",
       "      <td>0</td>\n",
       "      <td>-3</td>\n",
       "      <td>-8.8</td>\n",
       "      <td>56.9</td>\n",
       "      <td>-381</td>\n",
       "      <td>27.4</td>\n",
       "      <td>0</td>\n",
       "    </tr>\n",
       "    <tr>\n",
       "      <td>3</td>\n",
       "      <td>ALEX</td>\n",
       "      <td>980728</td>\n",
       "      <td>6</td>\n",
       "      <td>25</td>\n",
       "      <td>12.6</td>\n",
       "      <td>-31.3</td>\n",
       "      <td>1008</td>\n",
       "      <td>AL011998</td>\n",
       "      <td>5</td>\n",
       "      <td>10</td>\n",
       "      <td>...</td>\n",
       "      <td>12.2</td>\n",
       "      <td>-100</td>\n",
       "      <td>29</td>\n",
       "      <td>0</td>\n",
       "      <td>-44</td>\n",
       "      <td>-6.0</td>\n",
       "      <td>52.7</td>\n",
       "      <td>-481</td>\n",
       "      <td>27.2</td>\n",
       "      <td>0</td>\n",
       "    </tr>\n",
       "    <tr>\n",
       "      <td>4</td>\n",
       "      <td>ALEX</td>\n",
       "      <td>980728</td>\n",
       "      <td>12</td>\n",
       "      <td>30</td>\n",
       "      <td>12.9</td>\n",
       "      <td>-33.3</td>\n",
       "      <td>1007</td>\n",
       "      <td>AL011998</td>\n",
       "      <td>5</td>\n",
       "      <td>5</td>\n",
       "      <td>...</td>\n",
       "      <td>10.1</td>\n",
       "      <td>-89</td>\n",
       "      <td>15</td>\n",
       "      <td>190</td>\n",
       "      <td>-46</td>\n",
       "      <td>-6.5</td>\n",
       "      <td>55.3</td>\n",
       "      <td>-516</td>\n",
       "      <td>27.1</td>\n",
       "      <td>0</td>\n",
       "    </tr>\n",
       "    <tr>\n",
       "      <td>...</td>\n",
       "      <td>...</td>\n",
       "      <td>...</td>\n",
       "      <td>...</td>\n",
       "      <td>...</td>\n",
       "      <td>...</td>\n",
       "      <td>...</td>\n",
       "      <td>...</td>\n",
       "      <td>...</td>\n",
       "      <td>...</td>\n",
       "      <td>...</td>\n",
       "      <td>...</td>\n",
       "      <td>...</td>\n",
       "      <td>...</td>\n",
       "      <td>...</td>\n",
       "      <td>...</td>\n",
       "      <td>...</td>\n",
       "      <td>...</td>\n",
       "      <td>...</td>\n",
       "      <td>...</td>\n",
       "      <td>...</td>\n",
       "      <td>...</td>\n",
       "    </tr>\n",
       "    <tr>\n",
       "      <td>7400</td>\n",
       "      <td>RINA</td>\n",
       "      <td>171108</td>\n",
       "      <td>0</td>\n",
       "      <td>45</td>\n",
       "      <td>34.6</td>\n",
       "      <td>-48.7</td>\n",
       "      <td>999</td>\n",
       "      <td>AL192017</td>\n",
       "      <td>0</td>\n",
       "      <td>0</td>\n",
       "      <td>...</td>\n",
       "      <td>24.3</td>\n",
       "      <td>-37</td>\n",
       "      <td>0</td>\n",
       "      <td>1000</td>\n",
       "      <td>123</td>\n",
       "      <td>22.0</td>\n",
       "      <td>42.9</td>\n",
       "      <td>-35</td>\n",
       "      <td>23.5</td>\n",
       "      <td>0</td>\n",
       "    </tr>\n",
       "    <tr>\n",
       "      <td>7401</td>\n",
       "      <td>RINA</td>\n",
       "      <td>171108</td>\n",
       "      <td>6</td>\n",
       "      <td>50</td>\n",
       "      <td>36.4</td>\n",
       "      <td>-48.7</td>\n",
       "      <td>996</td>\n",
       "      <td>AL192017</td>\n",
       "      <td>-5</td>\n",
       "      <td>9999</td>\n",
       "      <td>...</td>\n",
       "      <td>14.7</td>\n",
       "      <td>-28</td>\n",
       "      <td>0</td>\n",
       "      <td>969</td>\n",
       "      <td>90</td>\n",
       "      <td>21.8</td>\n",
       "      <td>43.0</td>\n",
       "      <td>-121</td>\n",
       "      <td>22.9</td>\n",
       "      <td>1</td>\n",
       "    </tr>\n",
       "    <tr>\n",
       "      <td>7402</td>\n",
       "      <td>RINA</td>\n",
       "      <td>171108</td>\n",
       "      <td>12</td>\n",
       "      <td>45</td>\n",
       "      <td>38.3</td>\n",
       "      <td>-48.8</td>\n",
       "      <td>994</td>\n",
       "      <td>AL192017</td>\n",
       "      <td>0</td>\n",
       "      <td>9999</td>\n",
       "      <td>...</td>\n",
       "      <td>13.5</td>\n",
       "      <td>-29</td>\n",
       "      <td>0</td>\n",
       "      <td>966</td>\n",
       "      <td>126</td>\n",
       "      <td>23.0</td>\n",
       "      <td>43.0</td>\n",
       "      <td>-38</td>\n",
       "      <td>22.7</td>\n",
       "      <td>1</td>\n",
       "    </tr>\n",
       "    <tr>\n",
       "      <td>7403</td>\n",
       "      <td>RINA</td>\n",
       "      <td>171108</td>\n",
       "      <td>18</td>\n",
       "      <td>45</td>\n",
       "      <td>40.1</td>\n",
       "      <td>-49.0</td>\n",
       "      <td>992</td>\n",
       "      <td>AL192017</td>\n",
       "      <td>9999</td>\n",
       "      <td>9999</td>\n",
       "      <td>...</td>\n",
       "      <td>11.5</td>\n",
       "      <td>-14</td>\n",
       "      <td>0</td>\n",
       "      <td>948</td>\n",
       "      <td>75</td>\n",
       "      <td>28.4</td>\n",
       "      <td>44.3</td>\n",
       "      <td>-166</td>\n",
       "      <td>21.3</td>\n",
       "      <td>1</td>\n",
       "    </tr>\n",
       "    <tr>\n",
       "      <td>7404</td>\n",
       "      <td>RINA</td>\n",
       "      <td>171109</td>\n",
       "      <td>0</td>\n",
       "      <td>45</td>\n",
       "      <td>41.8</td>\n",
       "      <td>-48.8</td>\n",
       "      <td>991</td>\n",
       "      <td>AL192017</td>\n",
       "      <td>9999</td>\n",
       "      <td>9999</td>\n",
       "      <td>...</td>\n",
       "      <td>21.5</td>\n",
       "      <td>43</td>\n",
       "      <td>0</td>\n",
       "      <td>996</td>\n",
       "      <td>105</td>\n",
       "      <td>32.6</td>\n",
       "      <td>42.3</td>\n",
       "      <td>-137</td>\n",
       "      <td>17.4</td>\n",
       "      <td>1</td>\n",
       "    </tr>\n",
       "  </tbody>\n",
       "</table>\n",
       "<p>7405 rows × 27 columns</p>\n",
       "</div>"
      ],
      "text/plain": [
       "      NAME    DATE  HOUR  VMX0   LAT   LON  MSLP        ID  DELV12  DELV24  \\\n",
       "0     ALEX  980727    12    25  11.3 -25.4  1009  AL011998       0       5   \n",
       "1     ALEX  980727    18    25  11.7 -27.2  1009  AL011998       0       5   \n",
       "2     ALEX  980728     0    25  12.2 -29.2  1009  AL011998       5      10   \n",
       "3     ALEX  980728     6    25  12.6 -31.3  1008  AL011998       5      10   \n",
       "4     ALEX  980728    12    30  12.9 -33.3  1007  AL011998       5       5   \n",
       "...    ...     ...   ...   ...   ...   ...   ...       ...     ...     ...   \n",
       "7400  RINA  171108     0    45  34.6 -48.7   999  AL192017       0       0   \n",
       "7401  RINA  171108     6    50  36.4 -48.7   996  AL192017      -5    9999   \n",
       "7402  RINA  171108    12    45  38.3 -48.8   994  AL192017       0    9999   \n",
       "7403  RINA  171108    18    45  40.1 -49.0   992  AL192017    9999    9999   \n",
       "7404  RINA  171109     0    45  41.8 -48.8   991  AL192017    9999    9999   \n",
       "\n",
       "      ...  SDBT  POT  OHC   TPW  PC2  U200  TPWC  AVBT  RSST  RI  \n",
       "0     ...  13.8 -101   12     0  -58  -7.9  55.7  -473  27.4   0  \n",
       "1     ...  12.6 -102   17     0  -10  -6.4  55.7  -360  27.4   0  \n",
       "2     ...  12.8 -105   21     0   -3  -8.8  56.9  -381  27.4   0  \n",
       "3     ...  12.2 -100   29     0  -44  -6.0  52.7  -481  27.2   0  \n",
       "4     ...  10.1  -89   15   190  -46  -6.5  55.3  -516  27.1   0  \n",
       "...   ...   ...  ...  ...   ...  ...   ...   ...   ...   ...  ..  \n",
       "7400  ...  24.3  -37    0  1000  123  22.0  42.9   -35  23.5   0  \n",
       "7401  ...  14.7  -28    0   969   90  21.8  43.0  -121  22.9   1  \n",
       "7402  ...  13.5  -29    0   966  126  23.0  43.0   -38  22.7   1  \n",
       "7403  ...  11.5  -14    0   948   75  28.4  44.3  -166  21.3   1  \n",
       "7404  ...  21.5   43    0   996  105  32.6  42.3  -137  17.4   1  \n",
       "\n",
       "[7405 rows x 27 columns]"
      ]
     },
     "execution_count": 10,
     "metadata": {},
     "output_type": "execute_result"
    }
   ],
   "source": [
    "Data"
   ]
  },
  {
   "cell_type": "code",
   "execution_count": 11,
   "metadata": {},
   "outputs": [
    {
     "data": {
      "text/plain": [
       "<matplotlib.axes._subplots.AxesSubplot at 0x2b54293aa88>"
      ]
     },
     "execution_count": 11,
     "metadata": {},
     "output_type": "execute_result"
    }
   ],
   "source": [
    "Data['MSLP'].hist()"
   ]
  },
  {
   "cell_type": "code",
   "execution_count": 12,
   "metadata": {},
   "outputs": [],
   "source": [
    "import matplotlib \n",
    "import numpy as np \n",
    "import matplotlib.pyplot as plt "
   ]
  },
  {
   "cell_type": "code",
   "execution_count": 14,
   "metadata": {},
   "outputs": [
    {
     "data": {
      "text/plain": [
       "-99     113\n",
       "-93     105\n",
       "-96     104\n",
       "-101    100\n",
       "-97      96\n",
       "       ... \n",
       " 57       1\n",
       " 53       1\n",
       " 37       1\n",
       " 68       1\n",
       "-145      1\n",
       "Name: POT, Length: 212, dtype: int64"
      ]
     },
     "execution_count": 14,
     "metadata": {},
     "output_type": "execute_result"
    }
   ],
   "source": [
    "Data['POT'].value_counts()"
   ]
  },
  {
   "cell_type": "code",
   "execution_count": 15,
   "metadata": {},
   "outputs": [],
   "source": [
    "import matplotlib.pyplot as plt\n",
    "import seaborn as sns"
   ]
  },
  {
   "cell_type": "code",
   "execution_count": 19,
   "metadata": {},
   "outputs": [
    {
     "data": {
      "text/plain": [
       "Text(0, 0.5, 'Occurance Count')"
      ]
     },
     "execution_count": 19,
     "metadata": {},
     "output_type": "execute_result"
    },
    {
     "data": {
      "image/png": "[encoded data removed]",
      "text/plain": [
       "<Figure size 720x360 with 1 Axes>"
      ]
     },
     "metadata": {
      "needs_background": "light"
     },
     "output_type": "display_data"
    }
   ],
   "source": [
    "PER_count  = Data['PER'].value_counts()\n",
    "\n",
    "plt.figure(figsize=(10,5))\n",
    "\n",
    "sns.barplot(PER_count.index, PER_count.values, alpha=0.8)\n",
    "\n",
    "plt.title(\"PER Distribution\")\n",
    "\n",
    "plt.xlabel(\"Previous 12-h Intensity Change\")\n",
    "\n",
    "plt.ylabel(\"Occurance Count\")"
   ]
  },
  {
   "cell_type": "code",
   "execution_count": 28,
   "metadata": {},
   "outputs": [
    {
     "data": {
      "text/plain": [
       "<matplotlib.axes._subplots.AxesSubplot at 0x2b54a43e608>"
      ]
     },
     "execution_count": 28,
     "metadata": {},
     "output_type": "execute_result"
    },
    {
     "data": {
      "image/png": "[encoded data removed]",
      "text/plain": [
       "<Figure size 432x288 with 1 Axes>"
      ]
     },
     "metadata": {
      "needs_background": "light"
     },
     "output_type": "display_data"
    }
   ],
   "source": [
    "sns.distplot(Data['PER'])"
   ]
  },
  {
   "cell_type": "code",
   "execution_count": 25,
   "metadata": {},
   "outputs": [
    {
     "data": {
      "text/plain": [
       "<matplotlib.axes._subplots.AxesSubplot at 0x2b548313148>"
      ]
     },
     "execution_count": 25,
     "metadata": {},
     "output_type": "execute_result"
    },
    {
     "data": {
      "image/png": "[encoded data removed]",
      "text/plain": [
       "<Figure size 432x288 with 1 Axes>"
      ]
     },
     "metadata": {
      "needs_background": "light"
     },
     "output_type": "display_data"
    }
   ],
   "source": [
    "sns.distplot(Data['SHRD'])"
   ]
  },
  {
   "cell_type": "code",
   "execution_count": 27,
   "metadata": {},
   "outputs": [
    {
     "data": {
      "text/plain": [
       "<matplotlib.axes._subplots.AxesSubplot at 0x2b5485d1808>"
      ]
     },
     "execution_count": 27,
     "metadata": {},
     "output_type": "execute_result"
    },
    {
     "data": {
      "image/png": "[encoded data removed]",
      "text/plain": [
       "<Figure size 432x288 with 1 Axes>"
      ]
     },
     "metadata": {
      "needs_background": "light"
     },
     "output_type": "display_data"
    }
   ],
   "source": [
    "sns.distplot(Data['D200'])"
   ]
  },
  {
   "cell_type": "code",
   "execution_count": 29,
   "metadata": {},
   "outputs": [
    {
     "data": {
      "text/plain": [
       "<matplotlib.axes._subplots.AxesSubplot at 0x2b54a53a748>"
      ]
     },
     "execution_count": 29,
     "metadata": {},
     "output_type": "execute_result"
    },
    {
     "data": {
      "image/png": "[encoded data removed]",
      "text/plain": [
       "<Figure size 432x288 with 1 Axes>"
      ]
     },
     "metadata": {
      "needs_background": "light"
     },
     "output_type": "display_data"
    }
   ],
   "source": [
    "sns.distplot(Data['TPW'])"
   ]
  },
  {
   "cell_type": "code",
   "execution_count": 30,
   "metadata": {},
   "outputs": [
    {
     "data": {
      "text/plain": [
       "<matplotlib.axes._subplots.AxesSubplot at 0x2b54a3c10c8>"
      ]
     },
     "execution_count": 30,
     "metadata": {},
     "output_type": "execute_result"
    },
    {
     "data": {
      "image/png": "[encoded data removed]",
      "text/plain": [
       "<Figure size 432x288 with 1 Axes>"
      ]
     },
     "metadata": {
      "needs_background": "light"
     },
     "output_type": "display_data"
    }
   ],
   "source": [
    "sns.distplot(Data['PC2'])"
   ]
  },
  {
   "cell_type": "code",
   "execution_count": 32,
   "metadata": {},
   "outputs": [
    {
     "data": {
      "text/plain": [
       "<matplotlib.axes._subplots.AxesSubplot at 0x2b54a6c1e88>"
      ]
     },
     "execution_count": 32,
     "metadata": {},
     "output_type": "execute_result"
    },
    {
     "data": {
      "image/png": "[encoded data removed]",
      "text/plain": [
       "<Figure size 432x288 with 1 Axes>"
      ]
     },
     "metadata": {
      "needs_background": "light"
     },
     "output_type": "display_data"
    }
   ],
   "source": [
    "sns.distplot(Data['SDBT'])"
   ]
  },
  {
   "cell_type": "code",
   "execution_count": 33,
   "metadata": {},
   "outputs": [
    {
     "data": {
      "text/plain": [
       "<matplotlib.axes._subplots.AxesSubplot at 0x2b54a59d188>"
      ]
     },
     "execution_count": 33,
     "metadata": {},
     "output_type": "execute_result"
    },
    {
     "data": {
      "image/png": "[encoded data removed]",
      "text/plain": [
       "<Figure size 432x288 with 1 Axes>"
      ]
     },
     "metadata": {
      "needs_background": "light"
     },
     "output_type": "display_data"
    }
   ],
   "source": [
    "sns.distplot(Data['POT'])"
   ]
  },
  {
   "cell_type": "code",
   "execution_count": null,
   "metadata": {},
   "outputs": [],
   "source": [
    "VMX0'"
   ]
  },
  {
   "cell_type": "code",
   "execution_count": 34,
   "metadata": {},
   "outputs": [
    {
     "data": {
      "text/plain": [
       "<matplotlib.axes._subplots.AxesSubplot at 0x2b54a5209c8>"
      ]
     },
     "execution_count": 34,
     "metadata": {},
     "output_type": "execute_result"
    },
    {
     "data": {
      "image/png": "[encoded data removed]",
      "text/plain": [
       "<Figure size 432x288 with 1 Axes>"
      ]
     },
     "metadata": {
      "needs_background": "light"
     },
     "output_type": "display_data"
    }
   ],
   "source": [
    "sns.distplot(Data['OHC'])"
   ]
  },
  {
   "cell_type": "code",
   "execution_count": 36,
   "metadata": {},
   "outputs": [
    {
     "data": {
      "text/plain": [
       "<matplotlib.axes._subplots.AxesSubplot at 0x2b54a98a888>"
      ]
     },
     "execution_count": 36,
     "metadata": {},
     "output_type": "execute_result"
    },
    {
     "data": {
      "image/png": "[encoded data removed]",
      "text/plain": [
       "<Figure size 432x288 with 1 Axes>"
      ]
     },
     "metadata": {
      "needs_background": "light"
     },
     "output_type": "display_data"
    }
   ],
   "source": [
    "sns.distplot(Data['VMX0'])"
   ]
  },
  {
   "cell_type": "code",
   "execution_count": 41,
   "metadata": {},
   "outputs": [
    {
     "data": {
      "text/plain": [
       "Text(0, 0.5, 'Occurance Count')"
      ]
     },
     "execution_count": 41,
     "metadata": {},
     "output_type": "execute_result"
    },
    {
     "data": {
      "image/png": "[encoded data removed]",
      "text/plain": [
       "<Figure size 720x360 with 1 Axes>"
      ]
     },
     "metadata": {
      "needs_background": "light"
     },
     "output_type": "display_data"
    }
   ],
   "source": [
    "PER_count  = Data['VMX0'].value_counts()\n",
    "\n",
    "plt.figure(figsize=(10,5))\n",
    "\n",
    "sns.barplot(PER_count.index, PER_count.values, alpha=0.8)\n",
    "\n",
    "plt.title(\"VMX0 Distribution\")\n",
    "\n",
    "plt.xlabel(\"VMX0 value \")\n",
    "\n",
    "plt.ylabel(\"Occurance Count\")"
   ]
  },
  {
   "cell_type": "code",
   "execution_count": 48,
   "metadata": {},
   "outputs": [],
   "source": [
    "Data2 = Data[['PER', 'SHRD', 'D200', 'TPW', 'PC2', 'SDBT', 'POT', 'OHC', 'VMX0', 'DELV24']]"
   ]
  },
  {
   "cell_type": "code",
   "execution_count": 49,
   "metadata": {},
   "outputs": [
    {
     "data": {
      "text/html": [
       "<div>\n",
       "<style scoped>\n",
       "    .dataframe tbody tr th:only-of-type {\n",
       "        vertical-align: middle;\n",
       "    }\n",
       "\n",
       "    .dataframe tbody tr th {\n",
       "        vertical-align: top;\n",
       "    }\n",
       "\n",
       "    .dataframe thead th {\n",
       "        text-align: right;\n",
       "    }\n",
       "</style>\n",
       "<table border=\"1\" class=\"dataframe\">\n",
       "  <thead>\n",
       "    <tr style=\"text-align: right;\">\n",
       "      <th></th>\n",
       "      <th>PER</th>\n",
       "      <th>SHRD</th>\n",
       "      <th>D200</th>\n",
       "      <th>TPW</th>\n",
       "      <th>PC2</th>\n",
       "      <th>SDBT</th>\n",
       "      <th>POT</th>\n",
       "      <th>OHC</th>\n",
       "      <th>VMX0</th>\n",
       "      <th>DELV24</th>\n",
       "    </tr>\n",
       "  </thead>\n",
       "  <tbody>\n",
       "    <tr>\n",
       "      <td>PER</td>\n",
       "      <td>1.00</td>\n",
       "      <td>-0.06</td>\n",
       "      <td>0.07</td>\n",
       "      <td>-0.11</td>\n",
       "      <td>0.16</td>\n",
       "      <td>0.15</td>\n",
       "      <td>-0.25</td>\n",
       "      <td>0.03</td>\n",
       "      <td>-0.37</td>\n",
       "      <td>0.09</td>\n",
       "    </tr>\n",
       "    <tr>\n",
       "      <td>SHRD</td>\n",
       "      <td>-0.06</td>\n",
       "      <td>1.00</td>\n",
       "      <td>-0.03</td>\n",
       "      <td>0.39</td>\n",
       "      <td>0.01</td>\n",
       "      <td>-0.01</td>\n",
       "      <td>0.13</td>\n",
       "      <td>0.01</td>\n",
       "      <td>-0.11</td>\n",
       "      <td>0.27</td>\n",
       "    </tr>\n",
       "    <tr>\n",
       "      <td>D200</td>\n",
       "      <td>0.07</td>\n",
       "      <td>-0.03</td>\n",
       "      <td>1.00</td>\n",
       "      <td>-0.32</td>\n",
       "      <td>-0.03</td>\n",
       "      <td>-0.01</td>\n",
       "      <td>0.06</td>\n",
       "      <td>0.04</td>\n",
       "      <td>0.20</td>\n",
       "      <td>0.02</td>\n",
       "    </tr>\n",
       "    <tr>\n",
       "      <td>TPW</td>\n",
       "      <td>-0.11</td>\n",
       "      <td>0.39</td>\n",
       "      <td>-0.32</td>\n",
       "      <td>1.00</td>\n",
       "      <td>0.07</td>\n",
       "      <td>0.04</td>\n",
       "      <td>0.33</td>\n",
       "      <td>-0.04</td>\n",
       "      <td>-0.11</td>\n",
       "      <td>0.21</td>\n",
       "    </tr>\n",
       "    <tr>\n",
       "      <td>PC2</td>\n",
       "      <td>0.16</td>\n",
       "      <td>0.01</td>\n",
       "      <td>-0.03</td>\n",
       "      <td>0.07</td>\n",
       "      <td>1.00</td>\n",
       "      <td>0.98</td>\n",
       "      <td>0.04</td>\n",
       "      <td>0.03</td>\n",
       "      <td>-0.14</td>\n",
       "      <td>0.11</td>\n",
       "    </tr>\n",
       "    <tr>\n",
       "      <td>SDBT</td>\n",
       "      <td>0.15</td>\n",
       "      <td>-0.01</td>\n",
       "      <td>-0.01</td>\n",
       "      <td>0.04</td>\n",
       "      <td>0.98</td>\n",
       "      <td>1.00</td>\n",
       "      <td>0.03</td>\n",
       "      <td>0.03</td>\n",
       "      <td>-0.12</td>\n",
       "      <td>0.09</td>\n",
       "    </tr>\n",
       "    <tr>\n",
       "      <td>POT</td>\n",
       "      <td>-0.25</td>\n",
       "      <td>0.13</td>\n",
       "      <td>0.06</td>\n",
       "      <td>0.33</td>\n",
       "      <td>0.04</td>\n",
       "      <td>0.03</td>\n",
       "      <td>1.00</td>\n",
       "      <td>-0.00</td>\n",
       "      <td>0.61</td>\n",
       "      <td>0.15</td>\n",
       "    </tr>\n",
       "    <tr>\n",
       "      <td>OHC</td>\n",
       "      <td>0.03</td>\n",
       "      <td>0.01</td>\n",
       "      <td>0.04</td>\n",
       "      <td>-0.04</td>\n",
       "      <td>0.03</td>\n",
       "      <td>0.03</td>\n",
       "      <td>-0.00</td>\n",
       "      <td>1.00</td>\n",
       "      <td>-0.02</td>\n",
       "      <td>-0.01</td>\n",
       "    </tr>\n",
       "    <tr>\n",
       "      <td>VMX0</td>\n",
       "      <td>-0.37</td>\n",
       "      <td>-0.11</td>\n",
       "      <td>0.20</td>\n",
       "      <td>-0.11</td>\n",
       "      <td>-0.14</td>\n",
       "      <td>-0.12</td>\n",
       "      <td>0.61</td>\n",
       "      <td>-0.02</td>\n",
       "      <td>1.00</td>\n",
       "      <td>-0.23</td>\n",
       "    </tr>\n",
       "    <tr>\n",
       "      <td>DELV24</td>\n",
       "      <td>0.09</td>\n",
       "      <td>0.27</td>\n",
       "      <td>0.02</td>\n",
       "      <td>0.21</td>\n",
       "      <td>0.11</td>\n",
       "      <td>0.09</td>\n",
       "      <td>0.15</td>\n",
       "      <td>-0.01</td>\n",
       "      <td>-0.23</td>\n",
       "      <td>1.00</td>\n",
       "    </tr>\n",
       "  </tbody>\n",
       "</table>\n",
       "</div>"
      ],
      "text/plain": [
       "         PER  SHRD  D200   TPW   PC2  SDBT   POT   OHC  VMX0  DELV24\n",
       "PER     1.00 -0.06  0.07 -0.11  0.16  0.15 -0.25  0.03 -0.37    0.09\n",
       "SHRD   -0.06  1.00 -0.03  0.39  0.01 -0.01  0.13  0.01 -0.11    0.27\n",
       "D200    0.07 -0.03  1.00 -0.32 -0.03 -0.01  0.06  0.04  0.20    0.02\n",
       "TPW    -0.11  0.39 -0.32  1.00  0.07  0.04  0.33 -0.04 -0.11    0.21\n",
       "PC2     0.16  0.01 -0.03  0.07  1.00  0.98  0.04  0.03 -0.14    0.11\n",
       "SDBT    0.15 -0.01 -0.01  0.04  0.98  1.00  0.03  0.03 -0.12    0.09\n",
       "POT    -0.25  0.13  0.06  0.33  0.04  0.03  1.00 -0.00  0.61    0.15\n",
       "OHC     0.03  0.01  0.04 -0.04  0.03  0.03 -0.00  1.00 -0.02   -0.01\n",
       "VMX0   -0.37 -0.11  0.20 -0.11 -0.14 -0.12  0.61 -0.02  1.00   -0.23\n",
       "DELV24  0.09  0.27  0.02  0.21  0.11  0.09  0.15 -0.01 -0.23    1.00"
      ]
     },
     "execution_count": 49,
     "metadata": {},
     "output_type": "execute_result"
    }
   ],
   "source": [
    "round(Data2.corr(),2)"
   ]
  },
  {
   "cell_type": "code",
   "execution_count": 52,
   "metadata": {},
   "outputs": [
    {
     "data": {
      "text/plain": [
       "<matplotlib.axes._subplots.AxesSubplot at 0x2b552787348>"
      ]
     },
     "execution_count": 52,
     "metadata": {},
     "output_type": "execute_result"
    },
    {
     "data": {
      "image/png": "[encoded data removed]",
      "text/plain": [
       "<Figure size 432x288 with 2 Axes>"
      ]
     },
     "metadata": {
      "needs_background": "light"
     },
     "output_type": "display_data"
    }
   ],
   "source": [
    "fig_dims = (6, 4)\n",
    "\n",
    "fig, ax = plt.subplots(figsize=fig_dims)\n",
    "\n",
    "sns.heatmap(Data2.corr(),  annot = True, vmin=-1, vmax=1, center = 0,  cmap= 'coolwarm')\n",
    "\n"
   ]
  },
  {
   "cell_type": "code",
   "execution_count": 53,
   "metadata": {},
   "outputs": [
    {
     "data": {
      "text/html": [
       "<div>\n",
       "<style scoped>\n",
       "    .dataframe tbody tr th:only-of-type {\n",
       "        vertical-align: middle;\n",
       "    }\n",
       "\n",
       "    .dataframe tbody tr th {\n",
       "        vertical-align: top;\n",
       "    }\n",
       "\n",
       "    .dataframe thead th {\n",
       "        text-align: right;\n",
       "    }\n",
       "</style>\n",
       "<table border=\"1\" class=\"dataframe\">\n",
       "  <thead>\n",
       "    <tr style=\"text-align: right;\">\n",
       "      <th></th>\n",
       "      <th>PER</th>\n",
       "      <th>SHRD</th>\n",
       "      <th>D200</th>\n",
       "      <th>TPW</th>\n",
       "      <th>PC2</th>\n",
       "      <th>SDBT</th>\n",
       "      <th>POT</th>\n",
       "      <th>OHC</th>\n",
       "      <th>VMX0</th>\n",
       "      <th>DELV24</th>\n",
       "    </tr>\n",
       "  </thead>\n",
       "  <tbody>\n",
       "    <tr>\n",
       "      <td>0</td>\n",
       "      <td>9999</td>\n",
       "      <td>6.3</td>\n",
       "      <td>103</td>\n",
       "      <td>0</td>\n",
       "      <td>-58</td>\n",
       "      <td>13.8</td>\n",
       "      <td>-101</td>\n",
       "      <td>12</td>\n",
       "      <td>25</td>\n",
       "      <td>5</td>\n",
       "    </tr>\n",
       "    <tr>\n",
       "      <td>1</td>\n",
       "      <td>9999</td>\n",
       "      <td>11.2</td>\n",
       "      <td>118</td>\n",
       "      <td>0</td>\n",
       "      <td>-10</td>\n",
       "      <td>12.6</td>\n",
       "      <td>-102</td>\n",
       "      <td>17</td>\n",
       "      <td>25</td>\n",
       "      <td>5</td>\n",
       "    </tr>\n",
       "    <tr>\n",
       "      <td>2</td>\n",
       "      <td>0</td>\n",
       "      <td>8.6</td>\n",
       "      <td>116</td>\n",
       "      <td>0</td>\n",
       "      <td>-3</td>\n",
       "      <td>12.8</td>\n",
       "      <td>-105</td>\n",
       "      <td>21</td>\n",
       "      <td>25</td>\n",
       "      <td>10</td>\n",
       "    </tr>\n",
       "    <tr>\n",
       "      <td>3</td>\n",
       "      <td>0</td>\n",
       "      <td>12.2</td>\n",
       "      <td>91</td>\n",
       "      <td>0</td>\n",
       "      <td>-44</td>\n",
       "      <td>12.2</td>\n",
       "      <td>-100</td>\n",
       "      <td>29</td>\n",
       "      <td>25</td>\n",
       "      <td>10</td>\n",
       "    </tr>\n",
       "    <tr>\n",
       "      <td>4</td>\n",
       "      <td>5</td>\n",
       "      <td>10.5</td>\n",
       "      <td>88</td>\n",
       "      <td>190</td>\n",
       "      <td>-46</td>\n",
       "      <td>10.1</td>\n",
       "      <td>-89</td>\n",
       "      <td>15</td>\n",
       "      <td>30</td>\n",
       "      <td>5</td>\n",
       "    </tr>\n",
       "    <tr>\n",
       "      <td>...</td>\n",
       "      <td>...</td>\n",
       "      <td>...</td>\n",
       "      <td>...</td>\n",
       "      <td>...</td>\n",
       "      <td>...</td>\n",
       "      <td>...</td>\n",
       "      <td>...</td>\n",
       "      <td>...</td>\n",
       "      <td>...</td>\n",
       "      <td>...</td>\n",
       "    </tr>\n",
       "    <tr>\n",
       "      <td>7400</td>\n",
       "      <td>5</td>\n",
       "      <td>20.5</td>\n",
       "      <td>29</td>\n",
       "      <td>1000</td>\n",
       "      <td>123</td>\n",
       "      <td>24.3</td>\n",
       "      <td>-37</td>\n",
       "      <td>0</td>\n",
       "      <td>45</td>\n",
       "      <td>0</td>\n",
       "    </tr>\n",
       "    <tr>\n",
       "      <td>7401</td>\n",
       "      <td>10</td>\n",
       "      <td>20.8</td>\n",
       "      <td>19</td>\n",
       "      <td>969</td>\n",
       "      <td>90</td>\n",
       "      <td>14.7</td>\n",
       "      <td>-28</td>\n",
       "      <td>0</td>\n",
       "      <td>50</td>\n",
       "      <td>9999</td>\n",
       "    </tr>\n",
       "    <tr>\n",
       "      <td>7402</td>\n",
       "      <td>0</td>\n",
       "      <td>21.2</td>\n",
       "      <td>12</td>\n",
       "      <td>966</td>\n",
       "      <td>126</td>\n",
       "      <td>13.5</td>\n",
       "      <td>-29</td>\n",
       "      <td>0</td>\n",
       "      <td>45</td>\n",
       "      <td>9999</td>\n",
       "    </tr>\n",
       "    <tr>\n",
       "      <td>7403</td>\n",
       "      <td>-5</td>\n",
       "      <td>22.5</td>\n",
       "      <td>14</td>\n",
       "      <td>948</td>\n",
       "      <td>75</td>\n",
       "      <td>11.5</td>\n",
       "      <td>-14</td>\n",
       "      <td>0</td>\n",
       "      <td>45</td>\n",
       "      <td>9999</td>\n",
       "    </tr>\n",
       "    <tr>\n",
       "      <td>7404</td>\n",
       "      <td>0</td>\n",
       "      <td>23.8</td>\n",
       "      <td>38</td>\n",
       "      <td>996</td>\n",
       "      <td>105</td>\n",
       "      <td>21.5</td>\n",
       "      <td>43</td>\n",
       "      <td>0</td>\n",
       "      <td>45</td>\n",
       "      <td>9999</td>\n",
       "    </tr>\n",
       "  </tbody>\n",
       "</table>\n",
       "<p>7405 rows × 10 columns</p>\n",
       "</div>"
      ],
      "text/plain": [
       "       PER  SHRD  D200   TPW  PC2  SDBT  POT  OHC  VMX0  DELV24\n",
       "0     9999   6.3   103     0  -58  13.8 -101   12    25       5\n",
       "1     9999  11.2   118     0  -10  12.6 -102   17    25       5\n",
       "2        0   8.6   116     0   -3  12.8 -105   21    25      10\n",
       "3        0  12.2    91     0  -44  12.2 -100   29    25      10\n",
       "4        5  10.5    88   190  -46  10.1  -89   15    30       5\n",
       "...    ...   ...   ...   ...  ...   ...  ...  ...   ...     ...\n",
       "7400     5  20.5    29  1000  123  24.3  -37    0    45       0\n",
       "7401    10  20.8    19   969   90  14.7  -28    0    50    9999\n",
       "7402     0  21.2    12   966  126  13.5  -29    0    45    9999\n",
       "7403    -5  22.5    14   948   75  11.5  -14    0    45    9999\n",
       "7404     0  23.8    38   996  105  21.5   43    0    45    9999\n",
       "\n",
       "[7405 rows x 10 columns]"
      ]
     },
     "execution_count": 53,
     "metadata": {},
     "output_type": "execute_result"
    }
   ],
   "source": [
    "Data2"
   ]
  },
  {
   "cell_type": "code",
   "execution_count": 54,
   "metadata": {},
   "outputs": [],
   "source": [
    "Data3 = Data[['PER', 'SHRD', 'D200', 'TPW', 'PC2', 'SDBT', 'POT', 'OHC', 'VMX0', 'RI']]"
   ]
  },
  {
   "cell_type": "code",
   "execution_count": 55,
   "metadata": {},
   "outputs": [
    {
     "data": {
      "text/html": [
       "<div>\n",
       "<style scoped>\n",
       "    .dataframe tbody tr th:only-of-type {\n",
       "        vertical-align: middle;\n",
       "    }\n",
       "\n",
       "    .dataframe tbody tr th {\n",
       "        vertical-align: top;\n",
       "    }\n",
       "\n",
       "    .dataframe thead th {\n",
       "        text-align: right;\n",
       "    }\n",
       "</style>\n",
       "<table border=\"1\" class=\"dataframe\">\n",
       "  <thead>\n",
       "    <tr style=\"text-align: right;\">\n",
       "      <th></th>\n",
       "      <th>PER</th>\n",
       "      <th>SHRD</th>\n",
       "      <th>D200</th>\n",
       "      <th>TPW</th>\n",
       "      <th>PC2</th>\n",
       "      <th>SDBT</th>\n",
       "      <th>POT</th>\n",
       "      <th>OHC</th>\n",
       "      <th>VMX0</th>\n",
       "      <th>RI</th>\n",
       "    </tr>\n",
       "  </thead>\n",
       "  <tbody>\n",
       "    <tr>\n",
       "      <td>0</td>\n",
       "      <td>9999</td>\n",
       "      <td>6.3</td>\n",
       "      <td>103</td>\n",
       "      <td>0</td>\n",
       "      <td>-58</td>\n",
       "      <td>13.8</td>\n",
       "      <td>-101</td>\n",
       "      <td>12</td>\n",
       "      <td>25</td>\n",
       "      <td>0</td>\n",
       "    </tr>\n",
       "    <tr>\n",
       "      <td>1</td>\n",
       "      <td>9999</td>\n",
       "      <td>11.2</td>\n",
       "      <td>118</td>\n",
       "      <td>0</td>\n",
       "      <td>-10</td>\n",
       "      <td>12.6</td>\n",
       "      <td>-102</td>\n",
       "      <td>17</td>\n",
       "      <td>25</td>\n",
       "      <td>0</td>\n",
       "    </tr>\n",
       "    <tr>\n",
       "      <td>2</td>\n",
       "      <td>0</td>\n",
       "      <td>8.6</td>\n",
       "      <td>116</td>\n",
       "      <td>0</td>\n",
       "      <td>-3</td>\n",
       "      <td>12.8</td>\n",
       "      <td>-105</td>\n",
       "      <td>21</td>\n",
       "      <td>25</td>\n",
       "      <td>0</td>\n",
       "    </tr>\n",
       "    <tr>\n",
       "      <td>3</td>\n",
       "      <td>0</td>\n",
       "      <td>12.2</td>\n",
       "      <td>91</td>\n",
       "      <td>0</td>\n",
       "      <td>-44</td>\n",
       "      <td>12.2</td>\n",
       "      <td>-100</td>\n",
       "      <td>29</td>\n",
       "      <td>25</td>\n",
       "      <td>0</td>\n",
       "    </tr>\n",
       "    <tr>\n",
       "      <td>4</td>\n",
       "      <td>5</td>\n",
       "      <td>10.5</td>\n",
       "      <td>88</td>\n",
       "      <td>190</td>\n",
       "      <td>-46</td>\n",
       "      <td>10.1</td>\n",
       "      <td>-89</td>\n",
       "      <td>15</td>\n",
       "      <td>30</td>\n",
       "      <td>0</td>\n",
       "    </tr>\n",
       "    <tr>\n",
       "      <td>...</td>\n",
       "      <td>...</td>\n",
       "      <td>...</td>\n",
       "      <td>...</td>\n",
       "      <td>...</td>\n",
       "      <td>...</td>\n",
       "      <td>...</td>\n",
       "      <td>...</td>\n",
       "      <td>...</td>\n",
       "      <td>...</td>\n",
       "      <td>...</td>\n",
       "    </tr>\n",
       "    <tr>\n",
       "      <td>7400</td>\n",
       "      <td>5</td>\n",
       "      <td>20.5</td>\n",
       "      <td>29</td>\n",
       "      <td>1000</td>\n",
       "      <td>123</td>\n",
       "      <td>24.3</td>\n",
       "      <td>-37</td>\n",
       "      <td>0</td>\n",
       "      <td>45</td>\n",
       "      <td>0</td>\n",
       "    </tr>\n",
       "    <tr>\n",
       "      <td>7401</td>\n",
       "      <td>10</td>\n",
       "      <td>20.8</td>\n",
       "      <td>19</td>\n",
       "      <td>969</td>\n",
       "      <td>90</td>\n",
       "      <td>14.7</td>\n",
       "      <td>-28</td>\n",
       "      <td>0</td>\n",
       "      <td>50</td>\n",
       "      <td>1</td>\n",
       "    </tr>\n",
       "    <tr>\n",
       "      <td>7402</td>\n",
       "      <td>0</td>\n",
       "      <td>21.2</td>\n",
       "      <td>12</td>\n",
       "      <td>966</td>\n",
       "      <td>126</td>\n",
       "      <td>13.5</td>\n",
       "      <td>-29</td>\n",
       "      <td>0</td>\n",
       "      <td>45</td>\n",
       "      <td>1</td>\n",
       "    </tr>\n",
       "    <tr>\n",
       "      <td>7403</td>\n",
       "      <td>-5</td>\n",
       "      <td>22.5</td>\n",
       "      <td>14</td>\n",
       "      <td>948</td>\n",
       "      <td>75</td>\n",
       "      <td>11.5</td>\n",
       "      <td>-14</td>\n",
       "      <td>0</td>\n",
       "      <td>45</td>\n",
       "      <td>1</td>\n",
       "    </tr>\n",
       "    <tr>\n",
       "      <td>7404</td>\n",
       "      <td>0</td>\n",
       "      <td>23.8</td>\n",
       "      <td>38</td>\n",
       "      <td>996</td>\n",
       "      <td>105</td>\n",
       "      <td>21.5</td>\n",
       "      <td>43</td>\n",
       "      <td>0</td>\n",
       "      <td>45</td>\n",
       "      <td>1</td>\n",
       "    </tr>\n",
       "  </tbody>\n",
       "</table>\n",
       "<p>7405 rows × 10 columns</p>\n",
       "</div>"
      ],
      "text/plain": [
       "       PER  SHRD  D200   TPW  PC2  SDBT  POT  OHC  VMX0  RI\n",
       "0     9999   6.3   103     0  -58  13.8 -101   12    25   0\n",
       "1     9999  11.2   118     0  -10  12.6 -102   17    25   0\n",
       "2        0   8.6   116     0   -3  12.8 -105   21    25   0\n",
       "3        0  12.2    91     0  -44  12.2 -100   29    25   0\n",
       "4        5  10.5    88   190  -46  10.1  -89   15    30   0\n",
       "...    ...   ...   ...   ...  ...   ...  ...  ...   ...  ..\n",
       "7400     5  20.5    29  1000  123  24.3  -37    0    45   0\n",
       "7401    10  20.8    19   969   90  14.7  -28    0    50   1\n",
       "7402     0  21.2    12   966  126  13.5  -29    0    45   1\n",
       "7403    -5  22.5    14   948   75  11.5  -14    0    45   1\n",
       "7404     0  23.8    38   996  105  21.5   43    0    45   1\n",
       "\n",
       "[7405 rows x 10 columns]"
      ]
     },
     "execution_count": 55,
     "metadata": {},
     "output_type": "execute_result"
    }
   ],
   "source": [
    "Data3"
   ]
  },
  {
   "cell_type": "code",
   "execution_count": 58,
   "metadata": {},
   "outputs": [
    {
     "data": {
      "text/html": [
       "<div>\n",
       "<style scoped>\n",
       "    .dataframe tbody tr th:only-of-type {\n",
       "        vertical-align: middle;\n",
       "    }\n",
       "\n",
       "    .dataframe tbody tr th {\n",
       "        vertical-align: top;\n",
       "    }\n",
       "\n",
       "    .dataframe thead th {\n",
       "        text-align: right;\n",
       "    }\n",
       "</style>\n",
       "<table border=\"1\" class=\"dataframe\">\n",
       "  <thead>\n",
       "    <tr style=\"text-align: right;\">\n",
       "      <th></th>\n",
       "      <th>PER</th>\n",
       "      <th>SHRD</th>\n",
       "      <th>D200</th>\n",
       "      <th>TPW</th>\n",
       "      <th>PC2</th>\n",
       "      <th>SDBT</th>\n",
       "      <th>POT</th>\n",
       "      <th>OHC</th>\n",
       "      <th>VMX0</th>\n",
       "    </tr>\n",
       "    <tr>\n",
       "      <th>RI</th>\n",
       "      <th></th>\n",
       "      <th></th>\n",
       "      <th></th>\n",
       "      <th></th>\n",
       "      <th></th>\n",
       "      <th></th>\n",
       "      <th></th>\n",
       "      <th></th>\n",
       "      <th></th>\n",
       "    </tr>\n",
       "  </thead>\n",
       "  <tbody>\n",
       "    <tr>\n",
       "      <td>0</td>\n",
       "      <td>1817.0</td>\n",
       "      <td>15.0</td>\n",
       "      <td>32.0</td>\n",
       "      <td>214.0</td>\n",
       "      <td>427.0</td>\n",
       "      <td>468.0</td>\n",
       "      <td>-71.0</td>\n",
       "      <td>60.0</td>\n",
       "      <td>58.0</td>\n",
       "    </tr>\n",
       "    <tr>\n",
       "      <td>1</td>\n",
       "      <td>2429.0</td>\n",
       "      <td>19.0</td>\n",
       "      <td>37.0</td>\n",
       "      <td>308.0</td>\n",
       "      <td>851.0</td>\n",
       "      <td>835.0</td>\n",
       "      <td>-62.0</td>\n",
       "      <td>46.0</td>\n",
       "      <td>46.0</td>\n",
       "    </tr>\n",
       "  </tbody>\n",
       "</table>\n",
       "</div>"
      ],
      "text/plain": [
       "       PER  SHRD  D200    TPW    PC2   SDBT   POT   OHC  VMX0\n",
       "RI                                                           \n",
       "0   1817.0  15.0  32.0  214.0  427.0  468.0 -71.0  60.0  58.0\n",
       "1   2429.0  19.0  37.0  308.0  851.0  835.0 -62.0  46.0  46.0"
      ]
     },
     "execution_count": 58,
     "metadata": {},
     "output_type": "execute_result"
    }
   ],
   "source": [
    "round(Data3.groupby('RI').mean(),0)"
   ]
  },
  {
   "cell_type": "code",
   "execution_count": 61,
   "metadata": {},
   "outputs": [
    {
     "name": "stderr",
     "output_type": "stream",
     "text": [
      "C:\\Users\\neelk\\Anaconda3\\lib\\site-packages\\ipykernel_launcher.py:1: SettingWithCopyWarning: \n",
      "A value is trying to be set on a copy of a slice from a DataFrame\n",
      "\n",
      "See the caveats in the documentation: http://pandas.pydata.org/pandas-docs/stable/user_guide/indexing.html#returning-a-view-versus-a-copy\n",
      "  \"\"\"Entry point for launching an IPython kernel.\n"
     ]
    }
   ],
   "source": []
  },
  {
   "cell_type": "code",
   "execution_count": null,
   "metadata": {},
   "outputs": [],
   "source": []
  }
 ],
 "metadata": {
  "kernelspec": {
   "display_name": "Python 3",
   "language": "python",
   "name": "python3"
  },
  "language_info": {
   "codemirror_mode": {
    "name": "ipython",
    "version": 3
   },
   "file_extension": ".py",
   "mimetype": "text/x-python",
   "name": "python",
   "nbconvert_exporter": "python",
   "pygments_lexer": "ipython3",
   "version": "3.7.4"
  }
 },
 "nbformat": 4,
 "nbformat_minor": 2
}
