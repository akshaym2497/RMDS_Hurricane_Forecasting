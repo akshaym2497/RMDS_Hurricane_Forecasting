{
 "cells": [
  {
   "cell_type": "code",
   "execution_count": 1,
   "metadata": {},
   "outputs": [],
   "source": [
    "# Python code to build Machine Learning model for hurricane intensity forecast  \n",
    "import pandas as pd # For data manipulation and analysis\n",
    "pd.set_option('display.max_columns', 500)\n",
    "import numpy as np # For scientific computing\n",
    "\n",
    "#!pip3 install sklearn # Install machine learning library\n",
    "import sklearn # For machine learning library\n",
    "from sklearn.ensemble import RandomForestClassifier  # Random forest classifier\n",
    "#from sklearn.ensemble import ExtraTreesClassifier    # Extra tree classifier\n",
    "from sklearn.metrics import confusion_matrix # Compute confusion matrix to evaluate the accuracy of a classification.\n",
    "from sklearn.metrics import brier_score_loss  # Compute the Brier score\n",
    "\n",
    "import matplotlib.pyplot as plt  #plotting library"
   ]
  },
  {
   "cell_type": "code",
   "execution_count": 2,
   "metadata": {},
   "outputs": [
    {
     "data": {
      "text/html": [
       "<div>\n",
       "<style scoped>\n",
       "    .dataframe tbody tr th:only-of-type {\n",
       "        vertical-align: middle;\n",
       "    }\n",
       "\n",
       "    .dataframe tbody tr th {\n",
       "        vertical-align: top;\n",
       "    }\n",
       "\n",
       "    .dataframe thead th {\n",
       "        text-align: right;\n",
       "    }\n",
       "</style>\n",
       "<table border=\"1\" class=\"dataframe\">\n",
       "  <thead>\n",
       "    <tr style=\"text-align: right;\">\n",
       "      <th></th>\n",
       "      <th>NAME</th>\n",
       "      <th>DATE</th>\n",
       "      <th>HOUR</th>\n",
       "      <th>VMX0</th>\n",
       "      <th>LAT</th>\n",
       "      <th>LON</th>\n",
       "      <th>MSLP</th>\n",
       "      <th>ID</th>\n",
       "      <th>DELV12</th>\n",
       "      <th>DELV24</th>\n",
       "      <th>DELV36</th>\n",
       "      <th>DELV48</th>\n",
       "      <th>PER</th>\n",
       "      <th>SHRD</th>\n",
       "      <th>D200</th>\n",
       "      <th>RHLO</th>\n",
       "      <th>PX30</th>\n",
       "      <th>SDBT</th>\n",
       "      <th>POT</th>\n",
       "      <th>OHC</th>\n",
       "      <th>TPW</th>\n",
       "      <th>PC2</th>\n",
       "      <th>U200</th>\n",
       "      <th>TPWC</th>\n",
       "      <th>AVBT</th>\n",
       "      <th>RSST</th>\n",
       "    </tr>\n",
       "  </thead>\n",
       "  <tbody>\n",
       "    <tr>\n",
       "      <th>0</th>\n",
       "      <td>ALEX</td>\n",
       "      <td>980727</td>\n",
       "      <td>12</td>\n",
       "      <td>25</td>\n",
       "      <td>11.3</td>\n",
       "      <td>-25.4</td>\n",
       "      <td>1009</td>\n",
       "      <td>AL011998</td>\n",
       "      <td>0</td>\n",
       "      <td>5</td>\n",
       "      <td>10</td>\n",
       "      <td>10</td>\n",
       "      <td>9999</td>\n",
       "      <td>6.3</td>\n",
       "      <td>103</td>\n",
       "      <td>68</td>\n",
       "      <td>72</td>\n",
       "      <td>13.8</td>\n",
       "      <td>-101</td>\n",
       "      <td>12</td>\n",
       "      <td>0</td>\n",
       "      <td>-58</td>\n",
       "      <td>-7.9</td>\n",
       "      <td>55.7</td>\n",
       "      <td>-473</td>\n",
       "      <td>27.4</td>\n",
       "    </tr>\n",
       "    <tr>\n",
       "      <th>1</th>\n",
       "      <td>ALEX</td>\n",
       "      <td>980727</td>\n",
       "      <td>18</td>\n",
       "      <td>25</td>\n",
       "      <td>11.7</td>\n",
       "      <td>-27.2</td>\n",
       "      <td>1009</td>\n",
       "      <td>AL011998</td>\n",
       "      <td>0</td>\n",
       "      <td>5</td>\n",
       "      <td>10</td>\n",
       "      <td>10</td>\n",
       "      <td>9999</td>\n",
       "      <td>11.2</td>\n",
       "      <td>118</td>\n",
       "      <td>69</td>\n",
       "      <td>55</td>\n",
       "      <td>12.6</td>\n",
       "      <td>-102</td>\n",
       "      <td>17</td>\n",
       "      <td>0</td>\n",
       "      <td>-10</td>\n",
       "      <td>-6.4</td>\n",
       "      <td>55.7</td>\n",
       "      <td>-360</td>\n",
       "      <td>27.4</td>\n",
       "    </tr>\n",
       "    <tr>\n",
       "      <th>2</th>\n",
       "      <td>ALEX</td>\n",
       "      <td>980728</td>\n",
       "      <td>0</td>\n",
       "      <td>25</td>\n",
       "      <td>12.2</td>\n",
       "      <td>-29.2</td>\n",
       "      <td>1009</td>\n",
       "      <td>AL011998</td>\n",
       "      <td>5</td>\n",
       "      <td>10</td>\n",
       "      <td>10</td>\n",
       "      <td>10</td>\n",
       "      <td>0</td>\n",
       "      <td>8.6</td>\n",
       "      <td>116</td>\n",
       "      <td>71</td>\n",
       "      <td>70</td>\n",
       "      <td>12.8</td>\n",
       "      <td>-105</td>\n",
       "      <td>21</td>\n",
       "      <td>0</td>\n",
       "      <td>-3</td>\n",
       "      <td>-8.8</td>\n",
       "      <td>56.9</td>\n",
       "      <td>-381</td>\n",
       "      <td>27.4</td>\n",
       "    </tr>\n",
       "    <tr>\n",
       "      <th>3</th>\n",
       "      <td>ALEX</td>\n",
       "      <td>980728</td>\n",
       "      <td>6</td>\n",
       "      <td>25</td>\n",
       "      <td>12.6</td>\n",
       "      <td>-31.3</td>\n",
       "      <td>1008</td>\n",
       "      <td>AL011998</td>\n",
       "      <td>5</td>\n",
       "      <td>10</td>\n",
       "      <td>10</td>\n",
       "      <td>15</td>\n",
       "      <td>0</td>\n",
       "      <td>12.2</td>\n",
       "      <td>91</td>\n",
       "      <td>71</td>\n",
       "      <td>57</td>\n",
       "      <td>12.2</td>\n",
       "      <td>-100</td>\n",
       "      <td>29</td>\n",
       "      <td>0</td>\n",
       "      <td>-44</td>\n",
       "      <td>-6.0</td>\n",
       "      <td>52.7</td>\n",
       "      <td>-481</td>\n",
       "      <td>27.2</td>\n",
       "    </tr>\n",
       "    <tr>\n",
       "      <th>4</th>\n",
       "      <td>ALEX</td>\n",
       "      <td>980728</td>\n",
       "      <td>12</td>\n",
       "      <td>30</td>\n",
       "      <td>12.9</td>\n",
       "      <td>-33.3</td>\n",
       "      <td>1007</td>\n",
       "      <td>AL011998</td>\n",
       "      <td>5</td>\n",
       "      <td>5</td>\n",
       "      <td>5</td>\n",
       "      <td>10</td>\n",
       "      <td>5</td>\n",
       "      <td>10.5</td>\n",
       "      <td>88</td>\n",
       "      <td>71</td>\n",
       "      <td>83</td>\n",
       "      <td>10.1</td>\n",
       "      <td>-89</td>\n",
       "      <td>15</td>\n",
       "      <td>190</td>\n",
       "      <td>-46</td>\n",
       "      <td>-6.5</td>\n",
       "      <td>55.3</td>\n",
       "      <td>-516</td>\n",
       "      <td>27.1</td>\n",
       "    </tr>\n",
       "  </tbody>\n",
       "</table>\n",
       "</div>"
      ],
      "text/plain": [
       "   NAME    DATE  HOUR  VMX0   LAT   LON  MSLP        ID  DELV12  DELV24  \\\n",
       "0  ALEX  980727    12    25  11.3 -25.4  1009  AL011998       0       5   \n",
       "1  ALEX  980727    18    25  11.7 -27.2  1009  AL011998       0       5   \n",
       "2  ALEX  980728     0    25  12.2 -29.2  1009  AL011998       5      10   \n",
       "3  ALEX  980728     6    25  12.6 -31.3  1008  AL011998       5      10   \n",
       "4  ALEX  980728    12    30  12.9 -33.3  1007  AL011998       5       5   \n",
       "\n",
       "   DELV36  DELV48   PER  SHRD  D200  RHLO  PX30  SDBT  POT  OHC  TPW  PC2  \\\n",
       "0      10      10  9999   6.3   103    68    72  13.8 -101   12    0  -58   \n",
       "1      10      10  9999  11.2   118    69    55  12.6 -102   17    0  -10   \n",
       "2      10      10     0   8.6   116    71    70  12.8 -105   21    0   -3   \n",
       "3      10      15     0  12.2    91    71    57  12.2 -100   29    0  -44   \n",
       "4       5      10     5  10.5    88    71    83  10.1  -89   15  190  -46   \n",
       "\n",
       "   U200  TPWC  AVBT  RSST  \n",
       "0  -7.9  55.7  -473  27.4  \n",
       "1  -6.4  55.7  -360  27.4  \n",
       "2  -8.8  56.9  -381  27.4  \n",
       "3  -6.0  52.7  -481  27.2  \n",
       "4  -6.5  55.3  -516  27.1  "
      ]
     },
     "execution_count": 2,
     "metadata": {},
     "output_type": "execute_result"
    }
   ],
   "source": [
    "#====================================\n",
    "#Read SHIPS spread-sheet data\n",
    "#====================================\n",
    "# Set up the location of the SHIPS data\n",
    "fname='C:\\\\Users\\\\HP\\\\Desktop\\\\Hurricane\\\\Dataset_SHIPS_RII_ATL.csv'\n",
    "#fname='Dataset_SHIPS_RII_EPAC.csv'\n",
    "\n",
    "# Read SHIPS data\n",
    "ships = pd.read_csv(fname)\n",
    "ships.head()"
   ]
  },
  {
   "cell_type": "code",
   "execution_count": 3,
   "metadata": {},
   "outputs": [],
   "source": [
    "#================================\n",
    "# Set up parameters\n",
    "#================================\n",
    "# Year range for training and validating\n",
    "year_train=['1998','2008']\n",
    "\n",
    "# Year range for forecast\n",
    "year_fcst=['2009','2017']\n",
    "\n",
    "# Variable names for predictors\n",
    "PredictorName=['PER','SHRD','D200','TPW','PC2','SDBT','POT','OHC']  # delete 'VMX0'\n",
    "\n",
    "# Variable name for predictand\n",
    "TargetName='DELV24'\n",
    "\n",
    "# Threshold of Rapid Intensification \n",
    "RIValue=30\n",
    "\n",
    "# Climatology of RI (30 kt) frequency at Atlantic basin (Kaplan et al. 2015)\n",
    "clim=0.125   #ATL 30 kt\n",
    "#clim=0.084   #EPAC 30 kt"
   ]
  },
  {
   "cell_type": "code",
   "execution_count": 4,
   "metadata": {},
   "outputs": [
    {
     "data": {
      "text/html": [
       "<div>\n",
       "<style scoped>\n",
       "    .dataframe tbody tr th:only-of-type {\n",
       "        vertical-align: middle;\n",
       "    }\n",
       "\n",
       "    .dataframe tbody tr th {\n",
       "        vertical-align: top;\n",
       "    }\n",
       "\n",
       "    .dataframe thead th {\n",
       "        text-align: right;\n",
       "    }\n",
       "</style>\n",
       "<table border=\"1\" class=\"dataframe\">\n",
       "  <thead>\n",
       "    <tr style=\"text-align: right;\">\n",
       "      <th></th>\n",
       "      <th>NAME</th>\n",
       "      <th>DATE</th>\n",
       "      <th>HOUR</th>\n",
       "      <th>VMX0</th>\n",
       "      <th>LAT</th>\n",
       "      <th>LON</th>\n",
       "      <th>MSLP</th>\n",
       "      <th>ID</th>\n",
       "      <th>DELV12</th>\n",
       "      <th>DELV24</th>\n",
       "      <th>DELV36</th>\n",
       "      <th>DELV48</th>\n",
       "      <th>PER</th>\n",
       "      <th>SHRD</th>\n",
       "      <th>D200</th>\n",
       "      <th>RHLO</th>\n",
       "      <th>PX30</th>\n",
       "      <th>SDBT</th>\n",
       "      <th>POT</th>\n",
       "      <th>OHC</th>\n",
       "      <th>TPW</th>\n",
       "      <th>PC2</th>\n",
       "      <th>U200</th>\n",
       "      <th>TPWC</th>\n",
       "      <th>AVBT</th>\n",
       "      <th>RSST</th>\n",
       "      <th>MONTH</th>\n",
       "      <th>YEAR</th>\n",
       "      <th>TAR</th>\n",
       "    </tr>\n",
       "  </thead>\n",
       "  <tbody>\n",
       "    <tr>\n",
       "      <th>2</th>\n",
       "      <td>ALEX</td>\n",
       "      <td>980728</td>\n",
       "      <td>0</td>\n",
       "      <td>25</td>\n",
       "      <td>12.2</td>\n",
       "      <td>-29.2</td>\n",
       "      <td>1009</td>\n",
       "      <td>AL011998</td>\n",
       "      <td>5.0</td>\n",
       "      <td>10.0</td>\n",
       "      <td>10.0</td>\n",
       "      <td>10.0</td>\n",
       "      <td>0.0</td>\n",
       "      <td>8.6</td>\n",
       "      <td>116</td>\n",
       "      <td>71</td>\n",
       "      <td>70.0</td>\n",
       "      <td>12.8</td>\n",
       "      <td>-105</td>\n",
       "      <td>21.0</td>\n",
       "      <td>0</td>\n",
       "      <td>-3.0</td>\n",
       "      <td>-8.8</td>\n",
       "      <td>56.9</td>\n",
       "      <td>-381.0</td>\n",
       "      <td>27.4</td>\n",
       "      <td>07</td>\n",
       "      <td>1998</td>\n",
       "      <td>0</td>\n",
       "    </tr>\n",
       "    <tr>\n",
       "      <th>3</th>\n",
       "      <td>ALEX</td>\n",
       "      <td>980728</td>\n",
       "      <td>6</td>\n",
       "      <td>25</td>\n",
       "      <td>12.6</td>\n",
       "      <td>-31.3</td>\n",
       "      <td>1008</td>\n",
       "      <td>AL011998</td>\n",
       "      <td>5.0</td>\n",
       "      <td>10.0</td>\n",
       "      <td>10.0</td>\n",
       "      <td>15.0</td>\n",
       "      <td>0.0</td>\n",
       "      <td>12.2</td>\n",
       "      <td>91</td>\n",
       "      <td>71</td>\n",
       "      <td>57.0</td>\n",
       "      <td>12.2</td>\n",
       "      <td>-100</td>\n",
       "      <td>29.0</td>\n",
       "      <td>0</td>\n",
       "      <td>-44.0</td>\n",
       "      <td>-6.0</td>\n",
       "      <td>52.7</td>\n",
       "      <td>-481.0</td>\n",
       "      <td>27.2</td>\n",
       "      <td>07</td>\n",
       "      <td>1998</td>\n",
       "      <td>0</td>\n",
       "    </tr>\n",
       "    <tr>\n",
       "      <th>4</th>\n",
       "      <td>ALEX</td>\n",
       "      <td>980728</td>\n",
       "      <td>12</td>\n",
       "      <td>30</td>\n",
       "      <td>12.9</td>\n",
       "      <td>-33.3</td>\n",
       "      <td>1007</td>\n",
       "      <td>AL011998</td>\n",
       "      <td>5.0</td>\n",
       "      <td>5.0</td>\n",
       "      <td>5.0</td>\n",
       "      <td>10.0</td>\n",
       "      <td>5.0</td>\n",
       "      <td>10.5</td>\n",
       "      <td>88</td>\n",
       "      <td>71</td>\n",
       "      <td>83.0</td>\n",
       "      <td>10.1</td>\n",
       "      <td>-89</td>\n",
       "      <td>15.0</td>\n",
       "      <td>190</td>\n",
       "      <td>-46.0</td>\n",
       "      <td>-6.5</td>\n",
       "      <td>55.3</td>\n",
       "      <td>-516.0</td>\n",
       "      <td>27.1</td>\n",
       "      <td>07</td>\n",
       "      <td>1998</td>\n",
       "      <td>0</td>\n",
       "    </tr>\n",
       "    <tr>\n",
       "      <th>5</th>\n",
       "      <td>ALEX</td>\n",
       "      <td>980728</td>\n",
       "      <td>18</td>\n",
       "      <td>30</td>\n",
       "      <td>13.1</td>\n",
       "      <td>-35.1</td>\n",
       "      <td>1006</td>\n",
       "      <td>AL011998</td>\n",
       "      <td>5.0</td>\n",
       "      <td>5.0</td>\n",
       "      <td>10.0</td>\n",
       "      <td>15.0</td>\n",
       "      <td>5.0</td>\n",
       "      <td>9.7</td>\n",
       "      <td>44</td>\n",
       "      <td>72</td>\n",
       "      <td>35.0</td>\n",
       "      <td>15.9</td>\n",
       "      <td>-86</td>\n",
       "      <td>22.0</td>\n",
       "      <td>15</td>\n",
       "      <td>36.0</td>\n",
       "      <td>-7.2</td>\n",
       "      <td>56.6</td>\n",
       "      <td>-270.0</td>\n",
       "      <td>27.1</td>\n",
       "      <td>07</td>\n",
       "      <td>1998</td>\n",
       "      <td>0</td>\n",
       "    </tr>\n",
       "    <tr>\n",
       "      <th>6</th>\n",
       "      <td>ALEX</td>\n",
       "      <td>980729</td>\n",
       "      <td>0</td>\n",
       "      <td>35</td>\n",
       "      <td>13.3</td>\n",
       "      <td>-36.8</td>\n",
       "      <td>1005</td>\n",
       "      <td>AL011998</td>\n",
       "      <td>0.0</td>\n",
       "      <td>0.0</td>\n",
       "      <td>5.0</td>\n",
       "      <td>10.0</td>\n",
       "      <td>5.0</td>\n",
       "      <td>9.9</td>\n",
       "      <td>37</td>\n",
       "      <td>74</td>\n",
       "      <td>56.0</td>\n",
       "      <td>14.5</td>\n",
       "      <td>-80</td>\n",
       "      <td>24.0</td>\n",
       "      <td>0</td>\n",
       "      <td>-6.0</td>\n",
       "      <td>-10.3</td>\n",
       "      <td>57.7</td>\n",
       "      <td>-443.0</td>\n",
       "      <td>27.1</td>\n",
       "      <td>07</td>\n",
       "      <td>1998</td>\n",
       "      <td>0</td>\n",
       "    </tr>\n",
       "  </tbody>\n",
       "</table>\n",
       "</div>"
      ],
      "text/plain": [
       "   NAME    DATE  HOUR  VMX0   LAT   LON  MSLP        ID  DELV12  DELV24  \\\n",
       "2  ALEX  980728     0    25  12.2 -29.2  1009  AL011998     5.0    10.0   \n",
       "3  ALEX  980728     6    25  12.6 -31.3  1008  AL011998     5.0    10.0   \n",
       "4  ALEX  980728    12    30  12.9 -33.3  1007  AL011998     5.0     5.0   \n",
       "5  ALEX  980728    18    30  13.1 -35.1  1006  AL011998     5.0     5.0   \n",
       "6  ALEX  980729     0    35  13.3 -36.8  1005  AL011998     0.0     0.0   \n",
       "\n",
       "   DELV36  DELV48  PER  SHRD  D200  RHLO  PX30  SDBT  POT   OHC  TPW   PC2  \\\n",
       "2    10.0    10.0  0.0   8.6   116    71  70.0  12.8 -105  21.0    0  -3.0   \n",
       "3    10.0    15.0  0.0  12.2    91    71  57.0  12.2 -100  29.0    0 -44.0   \n",
       "4     5.0    10.0  5.0  10.5    88    71  83.0  10.1  -89  15.0  190 -46.0   \n",
       "5    10.0    15.0  5.0   9.7    44    72  35.0  15.9  -86  22.0   15  36.0   \n",
       "6     5.0    10.0  5.0   9.9    37    74  56.0  14.5  -80  24.0    0  -6.0   \n",
       "\n",
       "   U200  TPWC   AVBT  RSST MONTH  YEAR  TAR  \n",
       "2  -8.8  56.9 -381.0  27.4    07  1998    0  \n",
       "3  -6.0  52.7 -481.0  27.2    07  1998    0  \n",
       "4  -6.5  55.3 -516.0  27.1    07  1998    0  \n",
       "5  -7.2  56.6 -270.0  27.1    07  1998    0  \n",
       "6 -10.3  57.7 -443.0  27.1    07  1998    0  "
      ]
     },
     "execution_count": 4,
     "metadata": {},
     "output_type": "execute_result"
    }
   ],
   "source": [
    "#================================\n",
    "# Data pre-processing\n",
    "#================================\n",
    "# Set all 9999s as NaNs\n",
    "ships = ships.replace(9999,np.NaN)\n",
    "\n",
    "# drop NaNs\n",
    "ships=ships.dropna()\n",
    "\n",
    "# Pad the date columns with 00 for the year 2000\n",
    "ships['DATE'] = ships['DATE'].apply(lambda x: str(x).zfill(6))\n",
    "\n",
    "# Extract month from date\n",
    "ships['MONTH'] = ships['DATE'].apply(lambda x: str(x)[2:4])\n",
    "\n",
    "# Extract year from date\n",
    "ships['YEAR'] = ships['DATE'].apply(lambda x: ('19' + str(x)[0:2]) if (str(x)[0:1]!= '0' and str(x)[0:1]!= '1') else ('20' + str(x)[0:2]))\n",
    "ships.head()\n",
    "\n",
    "# Set the target column\n",
    "ships['TAR'] = ships[TargetName].apply(lambda x: 1 if x >= RIValue else 0)\n",
    "ships.head()"
   ]
  },
  {
   "cell_type": "code",
   "execution_count": 5,
   "metadata": {},
   "outputs": [
    {
     "data": {
      "text/plain": [
       "1998    246\n",
       "1999    254\n",
       "2000    119\n",
       "2001    176\n",
       "2002    167\n",
       "2003    236\n",
       "2004    281\n",
       "2005    349\n",
       "2006    160\n",
       "2007     72\n",
       "2008    219\n",
       "2009     47\n",
       "2010    228\n",
       "2011    193\n",
       "2012    262\n",
       "2013     59\n",
       "2014     80\n",
       "2015    119\n",
       "2016    239\n",
       "2017    237\n",
       "Name: YEAR, dtype: int64"
      ]
     },
     "execution_count": 5,
     "metadata": {},
     "output_type": "execute_result"
    }
   ],
   "source": [
    "ships.YEAR.value_counts().sort_index()"
   ]
  },
  {
   "cell_type": "code",
   "execution_count": 6,
   "metadata": {},
   "outputs": [],
   "source": [
    "# Data within training and validating years\n",
    "data_train = ships[(ships['YEAR']>=year_train[0]) & (ships['YEAR']<=year_train[1])]\n",
    "\n",
    "# All predictors for training and validating\n",
    "XData = data_train[PredictorName]\n",
    "\n",
    "# All predictand for training and validating\n",
    "YData = data_train['TAR']"
   ]
  },
  {
   "cell_type": "code",
   "execution_count": 7,
   "metadata": {},
   "outputs": [
    {
     "data": {
      "text/html": [
       "<div>\n",
       "<style scoped>\n",
       "    .dataframe tbody tr th:only-of-type {\n",
       "        vertical-align: middle;\n",
       "    }\n",
       "\n",
       "    .dataframe tbody tr th {\n",
       "        vertical-align: top;\n",
       "    }\n",
       "\n",
       "    .dataframe thead th {\n",
       "        text-align: right;\n",
       "    }\n",
       "</style>\n",
       "<table border=\"1\" class=\"dataframe\">\n",
       "  <thead>\n",
       "    <tr style=\"text-align: right;\">\n",
       "      <th></th>\n",
       "      <th>PER</th>\n",
       "      <th>SHRD</th>\n",
       "      <th>D200</th>\n",
       "      <th>TPW</th>\n",
       "      <th>PC2</th>\n",
       "      <th>SDBT</th>\n",
       "      <th>POT</th>\n",
       "      <th>OHC</th>\n",
       "    </tr>\n",
       "  </thead>\n",
       "  <tbody>\n",
       "    <tr>\n",
       "      <th>PER</th>\n",
       "      <td>1.000000</td>\n",
       "      <td>-0.248301</td>\n",
       "      <td>0.134089</td>\n",
       "      <td>-0.151524</td>\n",
       "      <td>-0.262457</td>\n",
       "      <td>-0.165744</td>\n",
       "      <td>0.035958</td>\n",
       "      <td>0.092771</td>\n",
       "    </tr>\n",
       "    <tr>\n",
       "      <th>SHRD</th>\n",
       "      <td>-0.248301</td>\n",
       "      <td>1.000000</td>\n",
       "      <td>-0.227194</td>\n",
       "      <td>0.391774</td>\n",
       "      <td>0.369694</td>\n",
       "      <td>0.292508</td>\n",
       "      <td>-0.051570</td>\n",
       "      <td>-0.185855</td>\n",
       "    </tr>\n",
       "    <tr>\n",
       "      <th>D200</th>\n",
       "      <td>0.134089</td>\n",
       "      <td>-0.227194</td>\n",
       "      <td>1.000000</td>\n",
       "      <td>-0.462381</td>\n",
       "      <td>-0.512974</td>\n",
       "      <td>-0.221400</td>\n",
       "      <td>0.041412</td>\n",
       "      <td>0.339883</td>\n",
       "    </tr>\n",
       "    <tr>\n",
       "      <th>TPW</th>\n",
       "      <td>-0.151524</td>\n",
       "      <td>0.391774</td>\n",
       "      <td>-0.462381</td>\n",
       "      <td>1.000000</td>\n",
       "      <td>0.550803</td>\n",
       "      <td>0.212208</td>\n",
       "      <td>0.092249</td>\n",
       "      <td>-0.482222</td>\n",
       "    </tr>\n",
       "    <tr>\n",
       "      <th>PC2</th>\n",
       "      <td>-0.262457</td>\n",
       "      <td>0.369694</td>\n",
       "      <td>-0.512974</td>\n",
       "      <td>0.550803</td>\n",
       "      <td>1.000000</td>\n",
       "      <td>0.590434</td>\n",
       "      <td>-0.327496</td>\n",
       "      <td>-0.428193</td>\n",
       "    </tr>\n",
       "    <tr>\n",
       "      <th>SDBT</th>\n",
       "      <td>-0.165744</td>\n",
       "      <td>0.292508</td>\n",
       "      <td>-0.221400</td>\n",
       "      <td>0.212208</td>\n",
       "      <td>0.590434</td>\n",
       "      <td>1.000000</td>\n",
       "      <td>-0.499691</td>\n",
       "      <td>-0.188057</td>\n",
       "    </tr>\n",
       "    <tr>\n",
       "      <th>POT</th>\n",
       "      <td>0.035958</td>\n",
       "      <td>-0.051570</td>\n",
       "      <td>0.041412</td>\n",
       "      <td>0.092249</td>\n",
       "      <td>-0.327496</td>\n",
       "      <td>-0.499691</td>\n",
       "      <td>1.000000</td>\n",
       "      <td>-0.107507</td>\n",
       "    </tr>\n",
       "    <tr>\n",
       "      <th>OHC</th>\n",
       "      <td>0.092771</td>\n",
       "      <td>-0.185855</td>\n",
       "      <td>0.339883</td>\n",
       "      <td>-0.482222</td>\n",
       "      <td>-0.428193</td>\n",
       "      <td>-0.188057</td>\n",
       "      <td>-0.107507</td>\n",
       "      <td>1.000000</td>\n",
       "    </tr>\n",
       "  </tbody>\n",
       "</table>\n",
       "</div>"
      ],
      "text/plain": [
       "           PER      SHRD      D200       TPW       PC2      SDBT       POT  \\\n",
       "PER   1.000000 -0.248301  0.134089 -0.151524 -0.262457 -0.165744  0.035958   \n",
       "SHRD -0.248301  1.000000 -0.227194  0.391774  0.369694  0.292508 -0.051570   \n",
       "D200  0.134089 -0.227194  1.000000 -0.462381 -0.512974 -0.221400  0.041412   \n",
       "TPW  -0.151524  0.391774 -0.462381  1.000000  0.550803  0.212208  0.092249   \n",
       "PC2  -0.262457  0.369694 -0.512974  0.550803  1.000000  0.590434 -0.327496   \n",
       "SDBT -0.165744  0.292508 -0.221400  0.212208  0.590434  1.000000 -0.499691   \n",
       "POT   0.035958 -0.051570  0.041412  0.092249 -0.327496 -0.499691  1.000000   \n",
       "OHC   0.092771 -0.185855  0.339883 -0.482222 -0.428193 -0.188057 -0.107507   \n",
       "\n",
       "           OHC  \n",
       "PER   0.092771  \n",
       "SHRD -0.185855  \n",
       "D200  0.339883  \n",
       "TPW  -0.482222  \n",
       "PC2  -0.428193  \n",
       "SDBT -0.188057  \n",
       "POT  -0.107507  \n",
       "OHC   1.000000  "
      ]
     },
     "execution_count": 7,
     "metadata": {},
     "output_type": "execute_result"
    }
   ],
   "source": [
    "corrMatrix = XData.corr()\n",
    "corrMatrix"
   ]
  },
  {
   "cell_type": "markdown",
   "metadata": {},
   "source": [
    "### Random Forest, deleting variables"
   ]
  },
  {
   "cell_type": "code",
   "execution_count": 8,
   "metadata": {},
   "outputs": [
    {
     "data": {
      "text/plain": [
       "RandomForestClassifier(class_weight='balanced', max_depth=6, min_samples_leaf=2,\n",
       "                       n_jobs=-1, random_state=66)"
      ]
     },
     "execution_count": 8,
     "metadata": {},
     "output_type": "execute_result"
    }
   ],
   "source": [
    "#===============================================\n",
    "# Forecast model : Random Forest\n",
    "#===============================================\n",
    "# Forecast model set up. \n",
    "#    Note: n_estimators is based on hyperparameter selection of (50, 100, 250) with maximum PSS\n",
    "model_fcst = RandomForestClassifier(n_estimators=100, n_jobs=-1, random_state=66, max_depth=6, min_samples_leaf=2, class_weight='balanced')\n",
    "model_fcst"
   ]
  },
  {
   "cell_type": "code",
   "execution_count": 9,
   "metadata": {},
   "outputs": [
    {
     "data": {
      "text/plain": [
       "RandomForestClassifier(class_weight='balanced', max_depth=6, min_samples_leaf=2,\n",
       "                       n_jobs=-1, random_state=66)"
      ]
     },
     "execution_count": 9,
     "metadata": {},
     "output_type": "execute_result"
    }
   ],
   "source": [
    "# Train model using all the training and validating data\n",
    "model_fcst.fit(XData,YData)\n",
    "model_fcst"
   ]
  },
  {
   "cell_type": "code",
   "execution_count": 10,
   "metadata": {},
   "outputs": [],
   "source": [
    "# Data within forecast years\n",
    "data_fcst = ships[(ships['YEAR']>=year_fcst[0]) & (ships['YEAR']<=year_fcst[1])]\n",
    "#data_fcst"
   ]
  },
  {
   "cell_type": "code",
   "execution_count": 11,
   "metadata": {},
   "outputs": [],
   "source": [
    "# All predictors for forecast\n",
    "XData_fcst = data_fcst[PredictorName]\n",
    "#XData_fcst"
   ]
  },
  {
   "cell_type": "code",
   "execution_count": 12,
   "metadata": {},
   "outputs": [],
   "source": [
    "# All truth of predictand for forecast\n",
    "YData_fcst = data_fcst['TAR']\n",
    "#YData_fcst"
   ]
  },
  {
   "cell_type": "code",
   "execution_count": 13,
   "metadata": {},
   "outputs": [],
   "source": [
    "# Predict class for x\n",
    "y_pred_fcst = model_fcst.predict(XData_fcst)\n",
    "#y_pred_fcst"
   ]
  },
  {
   "cell_type": "code",
   "execution_count": 14,
   "metadata": {},
   "outputs": [
    {
     "data": {
      "text/plain": [
       "array([[1049,  287],\n",
       "       [  57,   71]], dtype=int64)"
      ]
     },
     "execution_count": 14,
     "metadata": {},
     "output_type": "execute_result"
    }
   ],
   "source": [
    "# Confusion matrix for one year\n",
    "cmatrix_fcst = confusion_matrix(YData_fcst, y_pred_fcst)\n",
    "cmatrix_fcst"
   ]
  },
  {
   "cell_type": "code",
   "execution_count": 15,
   "metadata": {},
   "outputs": [
    {
     "name": "stdout",
     "output_type": "stream",
     "text": [
      "Forecast PSS =  0.3398671407185629\n"
     ]
    }
   ],
   "source": [
    "# Pierce Skill Score\n",
    "pss=((cmatrix_fcst[0,0] * cmatrix_fcst[1,1]) - (cmatrix_fcst[0,1] * cmatrix_fcst[1,0])) * 1.0 / ((cmatrix_fcst[1,1] + cmatrix_fcst[1,0]) * (cmatrix_fcst[0,1] + cmatrix_fcst[0,0]))\n",
    "print('Forecast PSS = ',pss)"
   ]
  },
  {
   "cell_type": "code",
   "execution_count": 16,
   "metadata": {},
   "outputs": [
    {
     "name": "stdout",
     "output_type": "stream",
     "text": [
      "Forecast FAR =  0.8016759776536313\n"
     ]
    }
   ],
   "source": [
    "# False Alarm Ratio\n",
    "far=(cmatrix_fcst[0,1] * 1.0) / (cmatrix_fcst[0,1] + cmatrix_fcst[1,1])\n",
    "print('Forecast FAR = ',far)"
   ]
  },
  {
   "cell_type": "code",
   "execution_count": 17,
   "metadata": {},
   "outputs": [
    {
     "name": "stdout",
     "output_type": "stream",
     "text": [
      "Forecast POD =  0.5546875\n"
     ]
    }
   ],
   "source": [
    "# Probability of Detection\n",
    "pod=(cmatrix_fcst[1,1] * 1.0) / (cmatrix_fcst[1,0] + cmatrix_fcst[1,1]) \n",
    "print('Forecast POD = ',pod)"
   ]
  },
  {
   "cell_type": "markdown",
   "metadata": {},
   "source": [
    "### Random Forest, with adding variables"
   ]
  },
  {
   "cell_type": "code",
   "execution_count": 22,
   "metadata": {},
   "outputs": [],
   "source": [
    "# Variable names for predictors\n",
    "PredictorName=['PER','SHRD','D200','TPW','PC2','SDBT','POT','OHC','LAT','LON','U200','TPWC','RSST']\n",
    "# Data within training and validating years\n",
    "data_train = ships[(ships['YEAR']>=year_train[0]) & (ships['YEAR']<=year_train[1])]\n",
    "\n",
    "# All predictors for training and validating\n",
    "XData = data_train[PredictorName]\n",
    "\n",
    "# All predictand for training and validating\n",
    "YData = data_train['TAR']"
   ]
  },
  {
   "cell_type": "code",
   "execution_count": 23,
   "metadata": {},
   "outputs": [
    {
     "data": {
      "text/html": [
       "<div>\n",
       "<style scoped>\n",
       "    .dataframe tbody tr th:only-of-type {\n",
       "        vertical-align: middle;\n",
       "    }\n",
       "\n",
       "    .dataframe tbody tr th {\n",
       "        vertical-align: top;\n",
       "    }\n",
       "\n",
       "    .dataframe thead th {\n",
       "        text-align: right;\n",
       "    }\n",
       "</style>\n",
       "<table border=\"1\" class=\"dataframe\">\n",
       "  <thead>\n",
       "    <tr style=\"text-align: right;\">\n",
       "      <th></th>\n",
       "      <th>PER</th>\n",
       "      <th>SHRD</th>\n",
       "      <th>D200</th>\n",
       "      <th>TPW</th>\n",
       "      <th>PC2</th>\n",
       "      <th>SDBT</th>\n",
       "      <th>POT</th>\n",
       "      <th>OHC</th>\n",
       "      <th>LAT</th>\n",
       "      <th>LON</th>\n",
       "      <th>U200</th>\n",
       "      <th>TPWC</th>\n",
       "      <th>RSST</th>\n",
       "    </tr>\n",
       "  </thead>\n",
       "  <tbody>\n",
       "    <tr>\n",
       "      <th>PER</th>\n",
       "      <td>1.000000</td>\n",
       "      <td>-0.248301</td>\n",
       "      <td>0.134089</td>\n",
       "      <td>-0.151524</td>\n",
       "      <td>-0.262457</td>\n",
       "      <td>-0.165744</td>\n",
       "      <td>0.035958</td>\n",
       "      <td>0.092771</td>\n",
       "      <td>-0.176813</td>\n",
       "      <td>-0.009734</td>\n",
       "      <td>-0.174605</td>\n",
       "      <td>0.099404</td>\n",
       "      <td>0.109632</td>\n",
       "    </tr>\n",
       "    <tr>\n",
       "      <th>SHRD</th>\n",
       "      <td>-0.248301</td>\n",
       "      <td>1.000000</td>\n",
       "      <td>-0.227194</td>\n",
       "      <td>0.391774</td>\n",
       "      <td>0.369694</td>\n",
       "      <td>0.292508</td>\n",
       "      <td>-0.051570</td>\n",
       "      <td>-0.185855</td>\n",
       "      <td>0.214858</td>\n",
       "      <td>0.096674</td>\n",
       "      <td>0.528820</td>\n",
       "      <td>-0.400569</td>\n",
       "      <td>-0.257060</td>\n",
       "    </tr>\n",
       "    <tr>\n",
       "      <th>D200</th>\n",
       "      <td>0.134089</td>\n",
       "      <td>-0.227194</td>\n",
       "      <td>1.000000</td>\n",
       "      <td>-0.462381</td>\n",
       "      <td>-0.512974</td>\n",
       "      <td>-0.221400</td>\n",
       "      <td>0.041412</td>\n",
       "      <td>0.339883</td>\n",
       "      <td>-0.401338</td>\n",
       "      <td>-0.123234</td>\n",
       "      <td>-0.108139</td>\n",
       "      <td>0.544051</td>\n",
       "      <td>0.335547</td>\n",
       "    </tr>\n",
       "    <tr>\n",
       "      <th>TPW</th>\n",
       "      <td>-0.151524</td>\n",
       "      <td>0.391774</td>\n",
       "      <td>-0.462381</td>\n",
       "      <td>1.000000</td>\n",
       "      <td>0.550803</td>\n",
       "      <td>0.212208</td>\n",
       "      <td>0.092249</td>\n",
       "      <td>-0.482222</td>\n",
       "      <td>0.522342</td>\n",
       "      <td>0.207420</td>\n",
       "      <td>0.485303</td>\n",
       "      <td>-0.781839</td>\n",
       "      <td>-0.686743</td>\n",
       "    </tr>\n",
       "    <tr>\n",
       "      <th>PC2</th>\n",
       "      <td>-0.262457</td>\n",
       "      <td>0.369694</td>\n",
       "      <td>-0.512974</td>\n",
       "      <td>0.550803</td>\n",
       "      <td>1.000000</td>\n",
       "      <td>0.590434</td>\n",
       "      <td>-0.327496</td>\n",
       "      <td>-0.428193</td>\n",
       "      <td>0.420037</td>\n",
       "      <td>0.110497</td>\n",
       "      <td>0.291031</td>\n",
       "      <td>-0.641654</td>\n",
       "      <td>-0.425456</td>\n",
       "    </tr>\n",
       "    <tr>\n",
       "      <th>SDBT</th>\n",
       "      <td>-0.165744</td>\n",
       "      <td>0.292508</td>\n",
       "      <td>-0.221400</td>\n",
       "      <td>0.212208</td>\n",
       "      <td>0.590434</td>\n",
       "      <td>1.000000</td>\n",
       "      <td>-0.499691</td>\n",
       "      <td>-0.188057</td>\n",
       "      <td>0.103422</td>\n",
       "      <td>0.085260</td>\n",
       "      <td>0.185567</td>\n",
       "      <td>-0.327706</td>\n",
       "      <td>-0.149162</td>\n",
       "    </tr>\n",
       "    <tr>\n",
       "      <th>POT</th>\n",
       "      <td>0.035958</td>\n",
       "      <td>-0.051570</td>\n",
       "      <td>0.041412</td>\n",
       "      <td>0.092249</td>\n",
       "      <td>-0.327496</td>\n",
       "      <td>-0.499691</td>\n",
       "      <td>1.000000</td>\n",
       "      <td>-0.107507</td>\n",
       "      <td>0.213008</td>\n",
       "      <td>0.068556</td>\n",
       "      <td>0.078836</td>\n",
       "      <td>0.087663</td>\n",
       "      <td>-0.318678</td>\n",
       "    </tr>\n",
       "    <tr>\n",
       "      <th>OHC</th>\n",
       "      <td>0.092771</td>\n",
       "      <td>-0.185855</td>\n",
       "      <td>0.339883</td>\n",
       "      <td>-0.482222</td>\n",
       "      <td>-0.428193</td>\n",
       "      <td>-0.188057</td>\n",
       "      <td>-0.107507</td>\n",
       "      <td>1.000000</td>\n",
       "      <td>-0.347463</td>\n",
       "      <td>-0.500270</td>\n",
       "      <td>-0.206389</td>\n",
       "      <td>0.549741</td>\n",
       "      <td>0.636883</td>\n",
       "    </tr>\n",
       "    <tr>\n",
       "      <th>LAT</th>\n",
       "      <td>-0.176813</td>\n",
       "      <td>0.214858</td>\n",
       "      <td>-0.401338</td>\n",
       "      <td>0.522342</td>\n",
       "      <td>0.420037</td>\n",
       "      <td>0.103422</td>\n",
       "      <td>0.213008</td>\n",
       "      <td>-0.347463</td>\n",
       "      <td>1.000000</td>\n",
       "      <td>-0.259553</td>\n",
       "      <td>0.501097</td>\n",
       "      <td>-0.326232</td>\n",
       "      <td>-0.316134</td>\n",
       "    </tr>\n",
       "    <tr>\n",
       "      <th>LON</th>\n",
       "      <td>-0.009734</td>\n",
       "      <td>0.096674</td>\n",
       "      <td>-0.123234</td>\n",
       "      <td>0.207420</td>\n",
       "      <td>0.110497</td>\n",
       "      <td>0.085260</td>\n",
       "      <td>0.068556</td>\n",
       "      <td>-0.500270</td>\n",
       "      <td>-0.259553</td>\n",
       "      <td>1.000000</td>\n",
       "      <td>-0.064369</td>\n",
       "      <td>-0.428148</td>\n",
       "      <td>-0.532911</td>\n",
       "    </tr>\n",
       "    <tr>\n",
       "      <th>U200</th>\n",
       "      <td>-0.174605</td>\n",
       "      <td>0.528820</td>\n",
       "      <td>-0.108139</td>\n",
       "      <td>0.485303</td>\n",
       "      <td>0.291031</td>\n",
       "      <td>0.185567</td>\n",
       "      <td>0.078836</td>\n",
       "      <td>-0.206389</td>\n",
       "      <td>0.501097</td>\n",
       "      <td>-0.064369</td>\n",
       "      <td>1.000000</td>\n",
       "      <td>-0.338885</td>\n",
       "      <td>-0.332714</td>\n",
       "    </tr>\n",
       "    <tr>\n",
       "      <th>TPWC</th>\n",
       "      <td>0.099404</td>\n",
       "      <td>-0.400569</td>\n",
       "      <td>0.544051</td>\n",
       "      <td>-0.781839</td>\n",
       "      <td>-0.641654</td>\n",
       "      <td>-0.327706</td>\n",
       "      <td>0.087663</td>\n",
       "      <td>0.549741</td>\n",
       "      <td>-0.326232</td>\n",
       "      <td>-0.428148</td>\n",
       "      <td>-0.338885</td>\n",
       "      <td>1.000000</td>\n",
       "      <td>0.726091</td>\n",
       "    </tr>\n",
       "    <tr>\n",
       "      <th>RSST</th>\n",
       "      <td>0.109632</td>\n",
       "      <td>-0.257060</td>\n",
       "      <td>0.335547</td>\n",
       "      <td>-0.686743</td>\n",
       "      <td>-0.425456</td>\n",
       "      <td>-0.149162</td>\n",
       "      <td>-0.318678</td>\n",
       "      <td>0.636883</td>\n",
       "      <td>-0.316134</td>\n",
       "      <td>-0.532911</td>\n",
       "      <td>-0.332714</td>\n",
       "      <td>0.726091</td>\n",
       "      <td>1.000000</td>\n",
       "    </tr>\n",
       "  </tbody>\n",
       "</table>\n",
       "</div>"
      ],
      "text/plain": [
       "           PER      SHRD      D200       TPW       PC2      SDBT       POT  \\\n",
       "PER   1.000000 -0.248301  0.134089 -0.151524 -0.262457 -0.165744  0.035958   \n",
       "SHRD -0.248301  1.000000 -0.227194  0.391774  0.369694  0.292508 -0.051570   \n",
       "D200  0.134089 -0.227194  1.000000 -0.462381 -0.512974 -0.221400  0.041412   \n",
       "TPW  -0.151524  0.391774 -0.462381  1.000000  0.550803  0.212208  0.092249   \n",
       "PC2  -0.262457  0.369694 -0.512974  0.550803  1.000000  0.590434 -0.327496   \n",
       "SDBT -0.165744  0.292508 -0.221400  0.212208  0.590434  1.000000 -0.499691   \n",
       "POT   0.035958 -0.051570  0.041412  0.092249 -0.327496 -0.499691  1.000000   \n",
       "OHC   0.092771 -0.185855  0.339883 -0.482222 -0.428193 -0.188057 -0.107507   \n",
       "LAT  -0.176813  0.214858 -0.401338  0.522342  0.420037  0.103422  0.213008   \n",
       "LON  -0.009734  0.096674 -0.123234  0.207420  0.110497  0.085260  0.068556   \n",
       "U200 -0.174605  0.528820 -0.108139  0.485303  0.291031  0.185567  0.078836   \n",
       "TPWC  0.099404 -0.400569  0.544051 -0.781839 -0.641654 -0.327706  0.087663   \n",
       "RSST  0.109632 -0.257060  0.335547 -0.686743 -0.425456 -0.149162 -0.318678   \n",
       "\n",
       "           OHC       LAT       LON      U200      TPWC      RSST  \n",
       "PER   0.092771 -0.176813 -0.009734 -0.174605  0.099404  0.109632  \n",
       "SHRD -0.185855  0.214858  0.096674  0.528820 -0.400569 -0.257060  \n",
       "D200  0.339883 -0.401338 -0.123234 -0.108139  0.544051  0.335547  \n",
       "TPW  -0.482222  0.522342  0.207420  0.485303 -0.781839 -0.686743  \n",
       "PC2  -0.428193  0.420037  0.110497  0.291031 -0.641654 -0.425456  \n",
       "SDBT -0.188057  0.103422  0.085260  0.185567 -0.327706 -0.149162  \n",
       "POT  -0.107507  0.213008  0.068556  0.078836  0.087663 -0.318678  \n",
       "OHC   1.000000 -0.347463 -0.500270 -0.206389  0.549741  0.636883  \n",
       "LAT  -0.347463  1.000000 -0.259553  0.501097 -0.326232 -0.316134  \n",
       "LON  -0.500270 -0.259553  1.000000 -0.064369 -0.428148 -0.532911  \n",
       "U200 -0.206389  0.501097 -0.064369  1.000000 -0.338885 -0.332714  \n",
       "TPWC  0.549741 -0.326232 -0.428148 -0.338885  1.000000  0.726091  \n",
       "RSST  0.636883 -0.316134 -0.532911 -0.332714  0.726091  1.000000  "
      ]
     },
     "execution_count": 23,
     "metadata": {},
     "output_type": "execute_result"
    }
   ],
   "source": [
    "corrMatrix = XData.corr()\n",
    "corrMatrix"
   ]
  },
  {
   "cell_type": "code",
   "execution_count": 24,
   "metadata": {},
   "outputs": [
    {
     "data": {
      "text/plain": [
       "RandomForestClassifier(class_weight='balanced', max_depth=6, min_samples_leaf=2,\n",
       "                       n_jobs=-1, random_state=66)"
      ]
     },
     "execution_count": 24,
     "metadata": {},
     "output_type": "execute_result"
    }
   ],
   "source": [
    "model_fcst = RandomForestClassifier(n_estimators=100, n_jobs=-1, random_state=66, max_depth=6, min_samples_leaf=2, class_weight='balanced')\n",
    "model_fcst"
   ]
  },
  {
   "cell_type": "code",
   "execution_count": 25,
   "metadata": {},
   "outputs": [
    {
     "data": {
      "text/plain": [
       "RandomForestClassifier(class_weight='balanced', max_depth=6, min_samples_leaf=2,\n",
       "                       n_jobs=-1, random_state=66)"
      ]
     },
     "execution_count": 25,
     "metadata": {},
     "output_type": "execute_result"
    }
   ],
   "source": [
    "# Train model using all the training and validating data\n",
    "model_fcst.fit(XData,YData)\n",
    "model_fcst"
   ]
  },
  {
   "cell_type": "code",
   "execution_count": 26,
   "metadata": {},
   "outputs": [],
   "source": [
    "# Data within forecast years\n",
    "data_fcst = ships[(ships['YEAR']>=year_fcst[0]) & (ships['YEAR']<=year_fcst[1])]\n",
    "#data_fcst\n",
    "\n",
    "# All predictors for forecast\n",
    "XData_fcst = data_fcst[PredictorName]\n",
    "#XData_fcst\n",
    "\n",
    "# All truth of predictand for forecast\n",
    "YData_fcst = data_fcst['TAR']\n",
    "#YData_fcst\n",
    "\n",
    "# Predict class for x\n",
    "y_pred_fcst = model_fcst.predict(XData_fcst)\n",
    "#y_pred_fcst"
   ]
  },
  {
   "cell_type": "code",
   "execution_count": 27,
   "metadata": {},
   "outputs": [
    {
     "data": {
      "text/plain": [
       "array([[1063,  273],\n",
       "       [  63,   65]], dtype=int64)"
      ]
     },
     "execution_count": 27,
     "metadata": {},
     "output_type": "execute_result"
    }
   ],
   "source": [
    "# Confusion matrix for one year\n",
    "cmatrix_fcst = confusion_matrix(YData_fcst, y_pred_fcst)\n",
    "cmatrix_fcst"
   ]
  },
  {
   "cell_type": "code",
   "execution_count": 28,
   "metadata": {},
   "outputs": [
    {
     "name": "stdout",
     "output_type": "stream",
     "text": [
      "Forecast PSS =  0.30347118263473055\n"
     ]
    }
   ],
   "source": [
    "# Pierce Skill Score\n",
    "pss=((cmatrix_fcst[0,0] * cmatrix_fcst[1,1]) - (cmatrix_fcst[0,1] * cmatrix_fcst[1,0])) * 1.0 / ((cmatrix_fcst[1,1] + cmatrix_fcst[1,0]) * (cmatrix_fcst[0,1] + cmatrix_fcst[0,0]))\n",
    "print('Forecast PSS = ',pss)"
   ]
  },
  {
   "cell_type": "code",
   "execution_count": 29,
   "metadata": {},
   "outputs": [
    {
     "name": "stdout",
     "output_type": "stream",
     "text": [
      "Forecast FAR =  0.8076923076923077\n"
     ]
    }
   ],
   "source": [
    "# False Alarm Ratio\n",
    "far=(cmatrix_fcst[0,1] * 1.0) / (cmatrix_fcst[0,1] + cmatrix_fcst[1,1])\n",
    "print('Forecast FAR = ',far)"
   ]
  },
  {
   "cell_type": "code",
   "execution_count": 30,
   "metadata": {},
   "outputs": [
    {
     "name": "stdout",
     "output_type": "stream",
     "text": [
      "Forecast POD =  0.5078125\n"
     ]
    }
   ],
   "source": [
    "# Probability of Detection\n",
    "pod=(cmatrix_fcst[1,1] * 1.0) / (cmatrix_fcst[1,0] + cmatrix_fcst[1,1]) \n",
    "print('Forecast POD = ',pod)"
   ]
  },
  {
   "cell_type": "markdown",
   "metadata": {},
   "source": [
    "### Gradient Boosting Classifier"
   ]
  },
  {
   "cell_type": "code",
   "execution_count": 31,
   "metadata": {},
   "outputs": [],
   "source": [
    "# Variable names for predictors\n",
    "PredictorName=['PER','SHRD','D200','TPW','PC2','SDBT','POT','OHC','VMX0']\n",
    "# Data within training and validating years\n",
    "data_train = ships[(ships['YEAR']>=year_train[0]) & (ships['YEAR']<=year_train[1])]\n",
    "\n",
    "# All predictors for training and validating\n",
    "XData = data_train[PredictorName]\n",
    "\n",
    "# All predictand for training and validating\n",
    "YData = data_train['TAR']"
   ]
  },
  {
   "cell_type": "code",
   "execution_count": 33,
   "metadata": {},
   "outputs": [
    {
     "data": {
      "text/plain": [
       "GradientBoostingClassifier()"
      ]
     },
     "execution_count": 33,
     "metadata": {},
     "output_type": "execute_result"
    }
   ],
   "source": [
    "from sklearn.ensemble import GradientBoostingClassifier\n",
    "gbc = GradientBoostingClassifier(n_estimators=100)\n",
    "gbc.fit(XData,YData)"
   ]
  },
  {
   "cell_type": "markdown",
   "metadata": {},
   "source": [
    "##### tuning parameters"
   ]
  },
  {
   "cell_type": "code",
   "execution_count": 52,
   "metadata": {},
   "outputs": [
    {
     "name": "stderr",
     "output_type": "stream",
     "text": [
      "c:\\users\\hp\\pycharmprojects\\test1\\venv\\lib\\site-packages\\sklearn\\model_selection\\_validation.py:552: FitFailedWarning: Estimator fit failed. The score on this train-test partition for these parameters will be set to nan. Details: \n",
      "Traceback (most recent call last):\n",
      "  File \"c:\\users\\hp\\pycharmprojects\\test1\\venv\\lib\\site-packages\\sklearn\\model_selection\\_validation.py\", line 531, in _fit_and_score\n",
      "    estimator.fit(X_train, y_train, **fit_params)\n",
      "  File \"c:\\users\\hp\\pycharmprojects\\test1\\venv\\lib\\site-packages\\sklearn\\ensemble\\_gb.py\", line 500, in fit\n",
      "    sample_weight_val, begin_at_stage, monitor, X_idx_sorted)\n",
      "  File \"c:\\users\\hp\\pycharmprojects\\test1\\venv\\lib\\site-packages\\sklearn\\ensemble\\_gb.py\", line 557, in _fit_stages\n",
      "    random_state, X_idx_sorted, X_csc, X_csr)\n",
      "  File \"c:\\users\\hp\\pycharmprojects\\test1\\venv\\lib\\site-packages\\sklearn\\ensemble\\_gb.py\", line 212, in _fit_stage\n",
      "    check_input=False, X_idx_sorted=X_idx_sorted)\n",
      "  File \"c:\\users\\hp\\pycharmprojects\\test1\\venv\\lib\\site-packages\\sklearn\\tree\\_classes.py\", line 1246, in fit\n",
      "    X_idx_sorted=X_idx_sorted)\n",
      "  File \"c:\\users\\hp\\pycharmprojects\\test1\\venv\\lib\\site-packages\\sklearn\\tree\\_classes.py\", line 217, in fit\n",
      "    % self.min_samples_leaf)\n",
      "ValueError: min_samples_leaf must be at least 1 or in (0, 0.5], got 0\n",
      "\n",
      "  FitFailedWarning)\n",
      "c:\\users\\hp\\pycharmprojects\\test1\\venv\\lib\\site-packages\\sklearn\\model_selection\\_validation.py:552: FitFailedWarning: Estimator fit failed. The score on this train-test partition for these parameters will be set to nan. Details: \n",
      "Traceback (most recent call last):\n",
      "  File \"c:\\users\\hp\\pycharmprojects\\test1\\venv\\lib\\site-packages\\sklearn\\model_selection\\_validation.py\", line 531, in _fit_and_score\n",
      "    estimator.fit(X_train, y_train, **fit_params)\n",
      "  File \"c:\\users\\hp\\pycharmprojects\\test1\\venv\\lib\\site-packages\\sklearn\\ensemble\\_gb.py\", line 500, in fit\n",
      "    sample_weight_val, begin_at_stage, monitor, X_idx_sorted)\n",
      "  File \"c:\\users\\hp\\pycharmprojects\\test1\\venv\\lib\\site-packages\\sklearn\\ensemble\\_gb.py\", line 557, in _fit_stages\n",
      "    random_state, X_idx_sorted, X_csc, X_csr)\n",
      "  File \"c:\\users\\hp\\pycharmprojects\\test1\\venv\\lib\\site-packages\\sklearn\\ensemble\\_gb.py\", line 212, in _fit_stage\n",
      "    check_input=False, X_idx_sorted=X_idx_sorted)\n",
      "  File \"c:\\users\\hp\\pycharmprojects\\test1\\venv\\lib\\site-packages\\sklearn\\tree\\_classes.py\", line 1246, in fit\n",
      "    X_idx_sorted=X_idx_sorted)\n",
      "  File \"c:\\users\\hp\\pycharmprojects\\test1\\venv\\lib\\site-packages\\sklearn\\tree\\_classes.py\", line 217, in fit\n",
      "    % self.min_samples_leaf)\n",
      "ValueError: min_samples_leaf must be at least 1 or in (0, 0.5], got 0\n",
      "\n",
      "  FitFailedWarning)\n",
      "c:\\users\\hp\\pycharmprojects\\test1\\venv\\lib\\site-packages\\sklearn\\model_selection\\_validation.py:552: FitFailedWarning: Estimator fit failed. The score on this train-test partition for these parameters will be set to nan. Details: \n",
      "Traceback (most recent call last):\n",
      "  File \"c:\\users\\hp\\pycharmprojects\\test1\\venv\\lib\\site-packages\\sklearn\\model_selection\\_validation.py\", line 531, in _fit_and_score\n",
      "    estimator.fit(X_train, y_train, **fit_params)\n",
      "  File \"c:\\users\\hp\\pycharmprojects\\test1\\venv\\lib\\site-packages\\sklearn\\ensemble\\_gb.py\", line 500, in fit\n",
      "    sample_weight_val, begin_at_stage, monitor, X_idx_sorted)\n",
      "  File \"c:\\users\\hp\\pycharmprojects\\test1\\venv\\lib\\site-packages\\sklearn\\ensemble\\_gb.py\", line 557, in _fit_stages\n",
      "    random_state, X_idx_sorted, X_csc, X_csr)\n",
      "  File \"c:\\users\\hp\\pycharmprojects\\test1\\venv\\lib\\site-packages\\sklearn\\ensemble\\_gb.py\", line 212, in _fit_stage\n",
      "    check_input=False, X_idx_sorted=X_idx_sorted)\n",
      "  File \"c:\\users\\hp\\pycharmprojects\\test1\\venv\\lib\\site-packages\\sklearn\\tree\\_classes.py\", line 1246, in fit\n",
      "    X_idx_sorted=X_idx_sorted)\n",
      "  File \"c:\\users\\hp\\pycharmprojects\\test1\\venv\\lib\\site-packages\\sklearn\\tree\\_classes.py\", line 217, in fit\n",
      "    % self.min_samples_leaf)\n",
      "ValueError: min_samples_leaf must be at least 1 or in (0, 0.5], got 0\n",
      "\n",
      "  FitFailedWarning)\n",
      "c:\\users\\hp\\pycharmprojects\\test1\\venv\\lib\\site-packages\\sklearn\\model_selection\\_validation.py:552: FitFailedWarning: Estimator fit failed. The score on this train-test partition for these parameters will be set to nan. Details: \n",
      "Traceback (most recent call last):\n",
      "  File \"c:\\users\\hp\\pycharmprojects\\test1\\venv\\lib\\site-packages\\sklearn\\model_selection\\_validation.py\", line 531, in _fit_and_score\n",
      "    estimator.fit(X_train, y_train, **fit_params)\n",
      "  File \"c:\\users\\hp\\pycharmprojects\\test1\\venv\\lib\\site-packages\\sklearn\\ensemble\\_gb.py\", line 500, in fit\n",
      "    sample_weight_val, begin_at_stage, monitor, X_idx_sorted)\n",
      "  File \"c:\\users\\hp\\pycharmprojects\\test1\\venv\\lib\\site-packages\\sklearn\\ensemble\\_gb.py\", line 557, in _fit_stages\n",
      "    random_state, X_idx_sorted, X_csc, X_csr)\n",
      "  File \"c:\\users\\hp\\pycharmprojects\\test1\\venv\\lib\\site-packages\\sklearn\\ensemble\\_gb.py\", line 212, in _fit_stage\n",
      "    check_input=False, X_idx_sorted=X_idx_sorted)\n",
      "  File \"c:\\users\\hp\\pycharmprojects\\test1\\venv\\lib\\site-packages\\sklearn\\tree\\_classes.py\", line 1246, in fit\n",
      "    X_idx_sorted=X_idx_sorted)\n",
      "  File \"c:\\users\\hp\\pycharmprojects\\test1\\venv\\lib\\site-packages\\sklearn\\tree\\_classes.py\", line 217, in fit\n",
      "    % self.min_samples_leaf)\n",
      "ValueError: min_samples_leaf must be at least 1 or in (0, 0.5], got 0\n",
      "\n",
      "  FitFailedWarning)\n",
      "c:\\users\\hp\\pycharmprojects\\test1\\venv\\lib\\site-packages\\sklearn\\model_selection\\_validation.py:552: FitFailedWarning: Estimator fit failed. The score on this train-test partition for these parameters will be set to nan. Details: \n",
      "Traceback (most recent call last):\n",
      "  File \"c:\\users\\hp\\pycharmprojects\\test1\\venv\\lib\\site-packages\\sklearn\\model_selection\\_validation.py\", line 531, in _fit_and_score\n",
      "    estimator.fit(X_train, y_train, **fit_params)\n",
      "  File \"c:\\users\\hp\\pycharmprojects\\test1\\venv\\lib\\site-packages\\sklearn\\ensemble\\_gb.py\", line 500, in fit\n",
      "    sample_weight_val, begin_at_stage, monitor, X_idx_sorted)\n",
      "  File \"c:\\users\\hp\\pycharmprojects\\test1\\venv\\lib\\site-packages\\sklearn\\ensemble\\_gb.py\", line 557, in _fit_stages\n",
      "    random_state, X_idx_sorted, X_csc, X_csr)\n",
      "  File \"c:\\users\\hp\\pycharmprojects\\test1\\venv\\lib\\site-packages\\sklearn\\ensemble\\_gb.py\", line 212, in _fit_stage\n",
      "    check_input=False, X_idx_sorted=X_idx_sorted)\n",
      "  File \"c:\\users\\hp\\pycharmprojects\\test1\\venv\\lib\\site-packages\\sklearn\\tree\\_classes.py\", line 1246, in fit\n",
      "    X_idx_sorted=X_idx_sorted)\n",
      "  File \"c:\\users\\hp\\pycharmprojects\\test1\\venv\\lib\\site-packages\\sklearn\\tree\\_classes.py\", line 217, in fit\n",
      "    % self.min_samples_leaf)\n",
      "ValueError: min_samples_leaf must be at least 1 or in (0, 0.5], got 0\n",
      "\n",
      "  FitFailedWarning)\n",
      "c:\\users\\hp\\pycharmprojects\\test1\\venv\\lib\\site-packages\\sklearn\\model_selection\\_validation.py:552: FitFailedWarning: Estimator fit failed. The score on this train-test partition for these parameters will be set to nan. Details: \n",
      "Traceback (most recent call last):\n",
      "  File \"c:\\users\\hp\\pycharmprojects\\test1\\venv\\lib\\site-packages\\sklearn\\model_selection\\_validation.py\", line 531, in _fit_and_score\n",
      "    estimator.fit(X_train, y_train, **fit_params)\n",
      "  File \"c:\\users\\hp\\pycharmprojects\\test1\\venv\\lib\\site-packages\\sklearn\\ensemble\\_gb.py\", line 500, in fit\n",
      "    sample_weight_val, begin_at_stage, monitor, X_idx_sorted)\n",
      "  File \"c:\\users\\hp\\pycharmprojects\\test1\\venv\\lib\\site-packages\\sklearn\\ensemble\\_gb.py\", line 557, in _fit_stages\n",
      "    random_state, X_idx_sorted, X_csc, X_csr)\n",
      "  File \"c:\\users\\hp\\pycharmprojects\\test1\\venv\\lib\\site-packages\\sklearn\\ensemble\\_gb.py\", line 212, in _fit_stage\n",
      "    check_input=False, X_idx_sorted=X_idx_sorted)\n",
      "  File \"c:\\users\\hp\\pycharmprojects\\test1\\venv\\lib\\site-packages\\sklearn\\tree\\_classes.py\", line 1246, in fit\n",
      "    X_idx_sorted=X_idx_sorted)\n",
      "  File \"c:\\users\\hp\\pycharmprojects\\test1\\venv\\lib\\site-packages\\sklearn\\tree\\_classes.py\", line 217, in fit\n",
      "    % self.min_samples_leaf)\n",
      "ValueError: min_samples_leaf must be at least 1 or in (0, 0.5], got 0\n",
      "\n",
      "  FitFailedWarning)\n",
      "c:\\users\\hp\\pycharmprojects\\test1\\venv\\lib\\site-packages\\sklearn\\model_selection\\_validation.py:552: FitFailedWarning: Estimator fit failed. The score on this train-test partition for these parameters will be set to nan. Details: \n",
      "Traceback (most recent call last):\n",
      "  File \"c:\\users\\hp\\pycharmprojects\\test1\\venv\\lib\\site-packages\\sklearn\\model_selection\\_validation.py\", line 531, in _fit_and_score\n",
      "    estimator.fit(X_train, y_train, **fit_params)\n",
      "  File \"c:\\users\\hp\\pycharmprojects\\test1\\venv\\lib\\site-packages\\sklearn\\ensemble\\_gb.py\", line 500, in fit\n",
      "    sample_weight_val, begin_at_stage, monitor, X_idx_sorted)\n",
      "  File \"c:\\users\\hp\\pycharmprojects\\test1\\venv\\lib\\site-packages\\sklearn\\ensemble\\_gb.py\", line 557, in _fit_stages\n",
      "    random_state, X_idx_sorted, X_csc, X_csr)\n",
      "  File \"c:\\users\\hp\\pycharmprojects\\test1\\venv\\lib\\site-packages\\sklearn\\ensemble\\_gb.py\", line 212, in _fit_stage\n",
      "    check_input=False, X_idx_sorted=X_idx_sorted)\n",
      "  File \"c:\\users\\hp\\pycharmprojects\\test1\\venv\\lib\\site-packages\\sklearn\\tree\\_classes.py\", line 1246, in fit\n",
      "    X_idx_sorted=X_idx_sorted)\n",
      "  File \"c:\\users\\hp\\pycharmprojects\\test1\\venv\\lib\\site-packages\\sklearn\\tree\\_classes.py\", line 217, in fit\n",
      "    % self.min_samples_leaf)\n",
      "ValueError: min_samples_leaf must be at least 1 or in (0, 0.5], got 0\n",
      "\n",
      "  FitFailedWarning)\n",
      "c:\\users\\hp\\pycharmprojects\\test1\\venv\\lib\\site-packages\\sklearn\\model_selection\\_validation.py:552: FitFailedWarning: Estimator fit failed. The score on this train-test partition for these parameters will be set to nan. Details: \n",
      "Traceback (most recent call last):\n",
      "  File \"c:\\users\\hp\\pycharmprojects\\test1\\venv\\lib\\site-packages\\sklearn\\model_selection\\_validation.py\", line 531, in _fit_and_score\n",
      "    estimator.fit(X_train, y_train, **fit_params)\n",
      "  File \"c:\\users\\hp\\pycharmprojects\\test1\\venv\\lib\\site-packages\\sklearn\\ensemble\\_gb.py\", line 500, in fit\n",
      "    sample_weight_val, begin_at_stage, monitor, X_idx_sorted)\n",
      "  File \"c:\\users\\hp\\pycharmprojects\\test1\\venv\\lib\\site-packages\\sklearn\\ensemble\\_gb.py\", line 557, in _fit_stages\n",
      "    random_state, X_idx_sorted, X_csc, X_csr)\n",
      "  File \"c:\\users\\hp\\pycharmprojects\\test1\\venv\\lib\\site-packages\\sklearn\\ensemble\\_gb.py\", line 212, in _fit_stage\n",
      "    check_input=False, X_idx_sorted=X_idx_sorted)\n",
      "  File \"c:\\users\\hp\\pycharmprojects\\test1\\venv\\lib\\site-packages\\sklearn\\tree\\_classes.py\", line 1246, in fit\n",
      "    X_idx_sorted=X_idx_sorted)\n",
      "  File \"c:\\users\\hp\\pycharmprojects\\test1\\venv\\lib\\site-packages\\sklearn\\tree\\_classes.py\", line 217, in fit\n",
      "    % self.min_samples_leaf)\n",
      "ValueError: min_samples_leaf must be at least 1 or in (0, 0.5], got 0\n",
      "\n",
      "  FitFailedWarning)\n",
      "c:\\users\\hp\\pycharmprojects\\test1\\venv\\lib\\site-packages\\sklearn\\model_selection\\_validation.py:552: FitFailedWarning: Estimator fit failed. The score on this train-test partition for these parameters will be set to nan. Details: \n",
      "Traceback (most recent call last):\n",
      "  File \"c:\\users\\hp\\pycharmprojects\\test1\\venv\\lib\\site-packages\\sklearn\\model_selection\\_validation.py\", line 531, in _fit_and_score\n",
      "    estimator.fit(X_train, y_train, **fit_params)\n",
      "  File \"c:\\users\\hp\\pycharmprojects\\test1\\venv\\lib\\site-packages\\sklearn\\ensemble\\_gb.py\", line 500, in fit\n",
      "    sample_weight_val, begin_at_stage, monitor, X_idx_sorted)\n",
      "  File \"c:\\users\\hp\\pycharmprojects\\test1\\venv\\lib\\site-packages\\sklearn\\ensemble\\_gb.py\", line 557, in _fit_stages\n",
      "    random_state, X_idx_sorted, X_csc, X_csr)\n",
      "  File \"c:\\users\\hp\\pycharmprojects\\test1\\venv\\lib\\site-packages\\sklearn\\ensemble\\_gb.py\", line 212, in _fit_stage\n",
      "    check_input=False, X_idx_sorted=X_idx_sorted)\n",
      "  File \"c:\\users\\hp\\pycharmprojects\\test1\\venv\\lib\\site-packages\\sklearn\\tree\\_classes.py\", line 1246, in fit\n",
      "    X_idx_sorted=X_idx_sorted)\n",
      "  File \"c:\\users\\hp\\pycharmprojects\\test1\\venv\\lib\\site-packages\\sklearn\\tree\\_classes.py\", line 217, in fit\n",
      "    % self.min_samples_leaf)\n",
      "ValueError: min_samples_leaf must be at least 1 or in (0, 0.5], got 0\n",
      "\n",
      "  FitFailedWarning)\n",
      "c:\\users\\hp\\pycharmprojects\\test1\\venv\\lib\\site-packages\\sklearn\\model_selection\\_validation.py:552: FitFailedWarning: Estimator fit failed. The score on this train-test partition for these parameters will be set to nan. Details: \n",
      "Traceback (most recent call last):\n",
      "  File \"c:\\users\\hp\\pycharmprojects\\test1\\venv\\lib\\site-packages\\sklearn\\model_selection\\_validation.py\", line 531, in _fit_and_score\n",
      "    estimator.fit(X_train, y_train, **fit_params)\n",
      "  File \"c:\\users\\hp\\pycharmprojects\\test1\\venv\\lib\\site-packages\\sklearn\\ensemble\\_gb.py\", line 500, in fit\n",
      "    sample_weight_val, begin_at_stage, monitor, X_idx_sorted)\n",
      "  File \"c:\\users\\hp\\pycharmprojects\\test1\\venv\\lib\\site-packages\\sklearn\\ensemble\\_gb.py\", line 557, in _fit_stages\n",
      "    random_state, X_idx_sorted, X_csc, X_csr)\n",
      "  File \"c:\\users\\hp\\pycharmprojects\\test1\\venv\\lib\\site-packages\\sklearn\\ensemble\\_gb.py\", line 212, in _fit_stage\n",
      "    check_input=False, X_idx_sorted=X_idx_sorted)\n",
      "  File \"c:\\users\\hp\\pycharmprojects\\test1\\venv\\lib\\site-packages\\sklearn\\tree\\_classes.py\", line 1246, in fit\n",
      "    X_idx_sorted=X_idx_sorted)\n",
      "  File \"c:\\users\\hp\\pycharmprojects\\test1\\venv\\lib\\site-packages\\sklearn\\tree\\_classes.py\", line 217, in fit\n",
      "    % self.min_samples_leaf)\n",
      "ValueError: min_samples_leaf must be at least 1 or in (0, 0.5], got 0\n",
      "\n",
      "  FitFailedWarning)\n"
     ]
    },
    {
     "name": "stderr",
     "output_type": "stream",
     "text": [
      "c:\\users\\hp\\pycharmprojects\\test1\\venv\\lib\\site-packages\\sklearn\\model_selection\\_validation.py:552: FitFailedWarning: Estimator fit failed. The score on this train-test partition for these parameters will be set to nan. Details: \n",
      "Traceback (most recent call last):\n",
      "  File \"c:\\users\\hp\\pycharmprojects\\test1\\venv\\lib\\site-packages\\sklearn\\model_selection\\_validation.py\", line 531, in _fit_and_score\n",
      "    estimator.fit(X_train, y_train, **fit_params)\n",
      "  File \"c:\\users\\hp\\pycharmprojects\\test1\\venv\\lib\\site-packages\\sklearn\\ensemble\\_gb.py\", line 500, in fit\n",
      "    sample_weight_val, begin_at_stage, monitor, X_idx_sorted)\n",
      "  File \"c:\\users\\hp\\pycharmprojects\\test1\\venv\\lib\\site-packages\\sklearn\\ensemble\\_gb.py\", line 557, in _fit_stages\n",
      "    random_state, X_idx_sorted, X_csc, X_csr)\n",
      "  File \"c:\\users\\hp\\pycharmprojects\\test1\\venv\\lib\\site-packages\\sklearn\\ensemble\\_gb.py\", line 212, in _fit_stage\n",
      "    check_input=False, X_idx_sorted=X_idx_sorted)\n",
      "  File \"c:\\users\\hp\\pycharmprojects\\test1\\venv\\lib\\site-packages\\sklearn\\tree\\_classes.py\", line 1246, in fit\n",
      "    X_idx_sorted=X_idx_sorted)\n",
      "  File \"c:\\users\\hp\\pycharmprojects\\test1\\venv\\lib\\site-packages\\sklearn\\tree\\_classes.py\", line 217, in fit\n",
      "    % self.min_samples_leaf)\n",
      "ValueError: min_samples_leaf must be at least 1 or in (0, 0.5], got 0\n",
      "\n",
      "  FitFailedWarning)\n",
      "c:\\users\\hp\\pycharmprojects\\test1\\venv\\lib\\site-packages\\sklearn\\model_selection\\_validation.py:552: FitFailedWarning: Estimator fit failed. The score on this train-test partition for these parameters will be set to nan. Details: \n",
      "Traceback (most recent call last):\n",
      "  File \"c:\\users\\hp\\pycharmprojects\\test1\\venv\\lib\\site-packages\\sklearn\\model_selection\\_validation.py\", line 531, in _fit_and_score\n",
      "    estimator.fit(X_train, y_train, **fit_params)\n",
      "  File \"c:\\users\\hp\\pycharmprojects\\test1\\venv\\lib\\site-packages\\sklearn\\ensemble\\_gb.py\", line 500, in fit\n",
      "    sample_weight_val, begin_at_stage, monitor, X_idx_sorted)\n",
      "  File \"c:\\users\\hp\\pycharmprojects\\test1\\venv\\lib\\site-packages\\sklearn\\ensemble\\_gb.py\", line 557, in _fit_stages\n",
      "    random_state, X_idx_sorted, X_csc, X_csr)\n",
      "  File \"c:\\users\\hp\\pycharmprojects\\test1\\venv\\lib\\site-packages\\sklearn\\ensemble\\_gb.py\", line 212, in _fit_stage\n",
      "    check_input=False, X_idx_sorted=X_idx_sorted)\n",
      "  File \"c:\\users\\hp\\pycharmprojects\\test1\\venv\\lib\\site-packages\\sklearn\\tree\\_classes.py\", line 1246, in fit\n",
      "    X_idx_sorted=X_idx_sorted)\n",
      "  File \"c:\\users\\hp\\pycharmprojects\\test1\\venv\\lib\\site-packages\\sklearn\\tree\\_classes.py\", line 217, in fit\n",
      "    % self.min_samples_leaf)\n",
      "ValueError: min_samples_leaf must be at least 1 or in (0, 0.5], got 0\n",
      "\n",
      "  FitFailedWarning)\n",
      "c:\\users\\hp\\pycharmprojects\\test1\\venv\\lib\\site-packages\\sklearn\\model_selection\\_validation.py:552: FitFailedWarning: Estimator fit failed. The score on this train-test partition for these parameters will be set to nan. Details: \n",
      "Traceback (most recent call last):\n",
      "  File \"c:\\users\\hp\\pycharmprojects\\test1\\venv\\lib\\site-packages\\sklearn\\model_selection\\_validation.py\", line 531, in _fit_and_score\n",
      "    estimator.fit(X_train, y_train, **fit_params)\n",
      "  File \"c:\\users\\hp\\pycharmprojects\\test1\\venv\\lib\\site-packages\\sklearn\\ensemble\\_gb.py\", line 500, in fit\n",
      "    sample_weight_val, begin_at_stage, monitor, X_idx_sorted)\n",
      "  File \"c:\\users\\hp\\pycharmprojects\\test1\\venv\\lib\\site-packages\\sklearn\\ensemble\\_gb.py\", line 557, in _fit_stages\n",
      "    random_state, X_idx_sorted, X_csc, X_csr)\n",
      "  File \"c:\\users\\hp\\pycharmprojects\\test1\\venv\\lib\\site-packages\\sklearn\\ensemble\\_gb.py\", line 212, in _fit_stage\n",
      "    check_input=False, X_idx_sorted=X_idx_sorted)\n",
      "  File \"c:\\users\\hp\\pycharmprojects\\test1\\venv\\lib\\site-packages\\sklearn\\tree\\_classes.py\", line 1246, in fit\n",
      "    X_idx_sorted=X_idx_sorted)\n",
      "  File \"c:\\users\\hp\\pycharmprojects\\test1\\venv\\lib\\site-packages\\sklearn\\tree\\_classes.py\", line 217, in fit\n",
      "    % self.min_samples_leaf)\n",
      "ValueError: min_samples_leaf must be at least 1 or in (0, 0.5], got 0\n",
      "\n",
      "  FitFailedWarning)\n",
      "c:\\users\\hp\\pycharmprojects\\test1\\venv\\lib\\site-packages\\sklearn\\model_selection\\_validation.py:552: FitFailedWarning: Estimator fit failed. The score on this train-test partition for these parameters will be set to nan. Details: \n",
      "Traceback (most recent call last):\n",
      "  File \"c:\\users\\hp\\pycharmprojects\\test1\\venv\\lib\\site-packages\\sklearn\\model_selection\\_validation.py\", line 531, in _fit_and_score\n",
      "    estimator.fit(X_train, y_train, **fit_params)\n",
      "  File \"c:\\users\\hp\\pycharmprojects\\test1\\venv\\lib\\site-packages\\sklearn\\ensemble\\_gb.py\", line 500, in fit\n",
      "    sample_weight_val, begin_at_stage, monitor, X_idx_sorted)\n",
      "  File \"c:\\users\\hp\\pycharmprojects\\test1\\venv\\lib\\site-packages\\sklearn\\ensemble\\_gb.py\", line 557, in _fit_stages\n",
      "    random_state, X_idx_sorted, X_csc, X_csr)\n",
      "  File \"c:\\users\\hp\\pycharmprojects\\test1\\venv\\lib\\site-packages\\sklearn\\ensemble\\_gb.py\", line 212, in _fit_stage\n",
      "    check_input=False, X_idx_sorted=X_idx_sorted)\n",
      "  File \"c:\\users\\hp\\pycharmprojects\\test1\\venv\\lib\\site-packages\\sklearn\\tree\\_classes.py\", line 1246, in fit\n",
      "    X_idx_sorted=X_idx_sorted)\n",
      "  File \"c:\\users\\hp\\pycharmprojects\\test1\\venv\\lib\\site-packages\\sklearn\\tree\\_classes.py\", line 217, in fit\n",
      "    % self.min_samples_leaf)\n",
      "ValueError: min_samples_leaf must be at least 1 or in (0, 0.5], got 0\n",
      "\n",
      "  FitFailedWarning)\n",
      "c:\\users\\hp\\pycharmprojects\\test1\\venv\\lib\\site-packages\\sklearn\\model_selection\\_validation.py:552: FitFailedWarning: Estimator fit failed. The score on this train-test partition for these parameters will be set to nan. Details: \n",
      "Traceback (most recent call last):\n",
      "  File \"c:\\users\\hp\\pycharmprojects\\test1\\venv\\lib\\site-packages\\sklearn\\model_selection\\_validation.py\", line 531, in _fit_and_score\n",
      "    estimator.fit(X_train, y_train, **fit_params)\n",
      "  File \"c:\\users\\hp\\pycharmprojects\\test1\\venv\\lib\\site-packages\\sklearn\\ensemble\\_gb.py\", line 500, in fit\n",
      "    sample_weight_val, begin_at_stage, monitor, X_idx_sorted)\n",
      "  File \"c:\\users\\hp\\pycharmprojects\\test1\\venv\\lib\\site-packages\\sklearn\\ensemble\\_gb.py\", line 557, in _fit_stages\n",
      "    random_state, X_idx_sorted, X_csc, X_csr)\n",
      "  File \"c:\\users\\hp\\pycharmprojects\\test1\\venv\\lib\\site-packages\\sklearn\\ensemble\\_gb.py\", line 212, in _fit_stage\n",
      "    check_input=False, X_idx_sorted=X_idx_sorted)\n",
      "  File \"c:\\users\\hp\\pycharmprojects\\test1\\venv\\lib\\site-packages\\sklearn\\tree\\_classes.py\", line 1246, in fit\n",
      "    X_idx_sorted=X_idx_sorted)\n",
      "  File \"c:\\users\\hp\\pycharmprojects\\test1\\venv\\lib\\site-packages\\sklearn\\tree\\_classes.py\", line 217, in fit\n",
      "    % self.min_samples_leaf)\n",
      "ValueError: min_samples_leaf must be at least 1 or in (0, 0.5], got 0\n",
      "\n",
      "  FitFailedWarning)\n",
      "c:\\users\\hp\\pycharmprojects\\test1\\venv\\lib\\site-packages\\sklearn\\model_selection\\_validation.py:552: FitFailedWarning: Estimator fit failed. The score on this train-test partition for these parameters will be set to nan. Details: \n",
      "Traceback (most recent call last):\n",
      "  File \"c:\\users\\hp\\pycharmprojects\\test1\\venv\\lib\\site-packages\\sklearn\\model_selection\\_validation.py\", line 531, in _fit_and_score\n",
      "    estimator.fit(X_train, y_train, **fit_params)\n",
      "  File \"c:\\users\\hp\\pycharmprojects\\test1\\venv\\lib\\site-packages\\sklearn\\ensemble\\_gb.py\", line 500, in fit\n",
      "    sample_weight_val, begin_at_stage, monitor, X_idx_sorted)\n",
      "  File \"c:\\users\\hp\\pycharmprojects\\test1\\venv\\lib\\site-packages\\sklearn\\ensemble\\_gb.py\", line 557, in _fit_stages\n",
      "    random_state, X_idx_sorted, X_csc, X_csr)\n",
      "  File \"c:\\users\\hp\\pycharmprojects\\test1\\venv\\lib\\site-packages\\sklearn\\ensemble\\_gb.py\", line 212, in _fit_stage\n",
      "    check_input=False, X_idx_sorted=X_idx_sorted)\n",
      "  File \"c:\\users\\hp\\pycharmprojects\\test1\\venv\\lib\\site-packages\\sklearn\\tree\\_classes.py\", line 1246, in fit\n",
      "    X_idx_sorted=X_idx_sorted)\n",
      "  File \"c:\\users\\hp\\pycharmprojects\\test1\\venv\\lib\\site-packages\\sklearn\\tree\\_classes.py\", line 217, in fit\n",
      "    % self.min_samples_leaf)\n",
      "ValueError: min_samples_leaf must be at least 1 or in (0, 0.5], got 0\n",
      "\n",
      "  FitFailedWarning)\n",
      "c:\\users\\hp\\pycharmprojects\\test1\\venv\\lib\\site-packages\\sklearn\\model_selection\\_validation.py:552: FitFailedWarning: Estimator fit failed. The score on this train-test partition for these parameters will be set to nan. Details: \n",
      "Traceback (most recent call last):\n",
      "  File \"c:\\users\\hp\\pycharmprojects\\test1\\venv\\lib\\site-packages\\sklearn\\model_selection\\_validation.py\", line 531, in _fit_and_score\n",
      "    estimator.fit(X_train, y_train, **fit_params)\n",
      "  File \"c:\\users\\hp\\pycharmprojects\\test1\\venv\\lib\\site-packages\\sklearn\\ensemble\\_gb.py\", line 500, in fit\n",
      "    sample_weight_val, begin_at_stage, monitor, X_idx_sorted)\n",
      "  File \"c:\\users\\hp\\pycharmprojects\\test1\\venv\\lib\\site-packages\\sklearn\\ensemble\\_gb.py\", line 557, in _fit_stages\n",
      "    random_state, X_idx_sorted, X_csc, X_csr)\n",
      "  File \"c:\\users\\hp\\pycharmprojects\\test1\\venv\\lib\\site-packages\\sklearn\\ensemble\\_gb.py\", line 212, in _fit_stage\n",
      "    check_input=False, X_idx_sorted=X_idx_sorted)\n",
      "  File \"c:\\users\\hp\\pycharmprojects\\test1\\venv\\lib\\site-packages\\sklearn\\tree\\_classes.py\", line 1246, in fit\n",
      "    X_idx_sorted=X_idx_sorted)\n",
      "  File \"c:\\users\\hp\\pycharmprojects\\test1\\venv\\lib\\site-packages\\sklearn\\tree\\_classes.py\", line 217, in fit\n",
      "    % self.min_samples_leaf)\n",
      "ValueError: min_samples_leaf must be at least 1 or in (0, 0.5], got 0\n",
      "\n",
      "  FitFailedWarning)\n",
      "c:\\users\\hp\\pycharmprojects\\test1\\venv\\lib\\site-packages\\sklearn\\model_selection\\_validation.py:552: FitFailedWarning: Estimator fit failed. The score on this train-test partition for these parameters will be set to nan. Details: \n",
      "Traceback (most recent call last):\n",
      "  File \"c:\\users\\hp\\pycharmprojects\\test1\\venv\\lib\\site-packages\\sklearn\\model_selection\\_validation.py\", line 531, in _fit_and_score\n",
      "    estimator.fit(X_train, y_train, **fit_params)\n",
      "  File \"c:\\users\\hp\\pycharmprojects\\test1\\venv\\lib\\site-packages\\sklearn\\ensemble\\_gb.py\", line 500, in fit\n",
      "    sample_weight_val, begin_at_stage, monitor, X_idx_sorted)\n",
      "  File \"c:\\users\\hp\\pycharmprojects\\test1\\venv\\lib\\site-packages\\sklearn\\ensemble\\_gb.py\", line 557, in _fit_stages\n",
      "    random_state, X_idx_sorted, X_csc, X_csr)\n",
      "  File \"c:\\users\\hp\\pycharmprojects\\test1\\venv\\lib\\site-packages\\sklearn\\ensemble\\_gb.py\", line 212, in _fit_stage\n",
      "    check_input=False, X_idx_sorted=X_idx_sorted)\n",
      "  File \"c:\\users\\hp\\pycharmprojects\\test1\\venv\\lib\\site-packages\\sklearn\\tree\\_classes.py\", line 1246, in fit\n",
      "    X_idx_sorted=X_idx_sorted)\n",
      "  File \"c:\\users\\hp\\pycharmprojects\\test1\\venv\\lib\\site-packages\\sklearn\\tree\\_classes.py\", line 217, in fit\n",
      "    % self.min_samples_leaf)\n",
      "ValueError: min_samples_leaf must be at least 1 or in (0, 0.5], got 0\n",
      "\n",
      "  FitFailedWarning)\n",
      "c:\\users\\hp\\pycharmprojects\\test1\\venv\\lib\\site-packages\\sklearn\\model_selection\\_validation.py:552: FitFailedWarning: Estimator fit failed. The score on this train-test partition for these parameters will be set to nan. Details: \n",
      "Traceback (most recent call last):\n",
      "  File \"c:\\users\\hp\\pycharmprojects\\test1\\venv\\lib\\site-packages\\sklearn\\model_selection\\_validation.py\", line 531, in _fit_and_score\n",
      "    estimator.fit(X_train, y_train, **fit_params)\n",
      "  File \"c:\\users\\hp\\pycharmprojects\\test1\\venv\\lib\\site-packages\\sklearn\\ensemble\\_gb.py\", line 500, in fit\n",
      "    sample_weight_val, begin_at_stage, monitor, X_idx_sorted)\n",
      "  File \"c:\\users\\hp\\pycharmprojects\\test1\\venv\\lib\\site-packages\\sklearn\\ensemble\\_gb.py\", line 557, in _fit_stages\n",
      "    random_state, X_idx_sorted, X_csc, X_csr)\n",
      "  File \"c:\\users\\hp\\pycharmprojects\\test1\\venv\\lib\\site-packages\\sklearn\\ensemble\\_gb.py\", line 212, in _fit_stage\n",
      "    check_input=False, X_idx_sorted=X_idx_sorted)\n",
      "  File \"c:\\users\\hp\\pycharmprojects\\test1\\venv\\lib\\site-packages\\sklearn\\tree\\_classes.py\", line 1246, in fit\n",
      "    X_idx_sorted=X_idx_sorted)\n",
      "  File \"c:\\users\\hp\\pycharmprojects\\test1\\venv\\lib\\site-packages\\sklearn\\tree\\_classes.py\", line 217, in fit\n",
      "    % self.min_samples_leaf)\n",
      "ValueError: min_samples_leaf must be at least 1 or in (0, 0.5], got 0\n",
      "\n",
      "  FitFailedWarning)\n",
      "c:\\users\\hp\\pycharmprojects\\test1\\venv\\lib\\site-packages\\sklearn\\model_selection\\_validation.py:552: FitFailedWarning: Estimator fit failed. The score on this train-test partition for these parameters will be set to nan. Details: \n",
      "Traceback (most recent call last):\n",
      "  File \"c:\\users\\hp\\pycharmprojects\\test1\\venv\\lib\\site-packages\\sklearn\\model_selection\\_validation.py\", line 531, in _fit_and_score\n",
      "    estimator.fit(X_train, y_train, **fit_params)\n",
      "  File \"c:\\users\\hp\\pycharmprojects\\test1\\venv\\lib\\site-packages\\sklearn\\ensemble\\_gb.py\", line 500, in fit\n",
      "    sample_weight_val, begin_at_stage, monitor, X_idx_sorted)\n",
      "  File \"c:\\users\\hp\\pycharmprojects\\test1\\venv\\lib\\site-packages\\sklearn\\ensemble\\_gb.py\", line 557, in _fit_stages\n",
      "    random_state, X_idx_sorted, X_csc, X_csr)\n",
      "  File \"c:\\users\\hp\\pycharmprojects\\test1\\venv\\lib\\site-packages\\sklearn\\ensemble\\_gb.py\", line 212, in _fit_stage\n",
      "    check_input=False, X_idx_sorted=X_idx_sorted)\n",
      "  File \"c:\\users\\hp\\pycharmprojects\\test1\\venv\\lib\\site-packages\\sklearn\\tree\\_classes.py\", line 1246, in fit\n",
      "    X_idx_sorted=X_idx_sorted)\n",
      "  File \"c:\\users\\hp\\pycharmprojects\\test1\\venv\\lib\\site-packages\\sklearn\\tree\\_classes.py\", line 217, in fit\n",
      "    % self.min_samples_leaf)\n",
      "ValueError: min_samples_leaf must be at least 1 or in (0, 0.5], got 0\n",
      "\n",
      "  FitFailedWarning)\n"
     ]
    },
    {
     "name": "stderr",
     "output_type": "stream",
     "text": [
      "c:\\users\\hp\\pycharmprojects\\test1\\venv\\lib\\site-packages\\sklearn\\model_selection\\_validation.py:552: FitFailedWarning: Estimator fit failed. The score on this train-test partition for these parameters will be set to nan. Details: \n",
      "Traceback (most recent call last):\n",
      "  File \"c:\\users\\hp\\pycharmprojects\\test1\\venv\\lib\\site-packages\\sklearn\\model_selection\\_validation.py\", line 531, in _fit_and_score\n",
      "    estimator.fit(X_train, y_train, **fit_params)\n",
      "  File \"c:\\users\\hp\\pycharmprojects\\test1\\venv\\lib\\site-packages\\sklearn\\ensemble\\_gb.py\", line 500, in fit\n",
      "    sample_weight_val, begin_at_stage, monitor, X_idx_sorted)\n",
      "  File \"c:\\users\\hp\\pycharmprojects\\test1\\venv\\lib\\site-packages\\sklearn\\ensemble\\_gb.py\", line 557, in _fit_stages\n",
      "    random_state, X_idx_sorted, X_csc, X_csr)\n",
      "  File \"c:\\users\\hp\\pycharmprojects\\test1\\venv\\lib\\site-packages\\sklearn\\ensemble\\_gb.py\", line 212, in _fit_stage\n",
      "    check_input=False, X_idx_sorted=X_idx_sorted)\n",
      "  File \"c:\\users\\hp\\pycharmprojects\\test1\\venv\\lib\\site-packages\\sklearn\\tree\\_classes.py\", line 1246, in fit\n",
      "    X_idx_sorted=X_idx_sorted)\n",
      "  File \"c:\\users\\hp\\pycharmprojects\\test1\\venv\\lib\\site-packages\\sklearn\\tree\\_classes.py\", line 217, in fit\n",
      "    % self.min_samples_leaf)\n",
      "ValueError: min_samples_leaf must be at least 1 or in (0, 0.5], got 0\n",
      "\n",
      "  FitFailedWarning)\n",
      "c:\\users\\hp\\pycharmprojects\\test1\\venv\\lib\\site-packages\\sklearn\\model_selection\\_validation.py:552: FitFailedWarning: Estimator fit failed. The score on this train-test partition for these parameters will be set to nan. Details: \n",
      "Traceback (most recent call last):\n",
      "  File \"c:\\users\\hp\\pycharmprojects\\test1\\venv\\lib\\site-packages\\sklearn\\model_selection\\_validation.py\", line 531, in _fit_and_score\n",
      "    estimator.fit(X_train, y_train, **fit_params)\n",
      "  File \"c:\\users\\hp\\pycharmprojects\\test1\\venv\\lib\\site-packages\\sklearn\\ensemble\\_gb.py\", line 500, in fit\n",
      "    sample_weight_val, begin_at_stage, monitor, X_idx_sorted)\n",
      "  File \"c:\\users\\hp\\pycharmprojects\\test1\\venv\\lib\\site-packages\\sklearn\\ensemble\\_gb.py\", line 557, in _fit_stages\n",
      "    random_state, X_idx_sorted, X_csc, X_csr)\n",
      "  File \"c:\\users\\hp\\pycharmprojects\\test1\\venv\\lib\\site-packages\\sklearn\\ensemble\\_gb.py\", line 212, in _fit_stage\n",
      "    check_input=False, X_idx_sorted=X_idx_sorted)\n",
      "  File \"c:\\users\\hp\\pycharmprojects\\test1\\venv\\lib\\site-packages\\sklearn\\tree\\_classes.py\", line 1246, in fit\n",
      "    X_idx_sorted=X_idx_sorted)\n",
      "  File \"c:\\users\\hp\\pycharmprojects\\test1\\venv\\lib\\site-packages\\sklearn\\tree\\_classes.py\", line 217, in fit\n",
      "    % self.min_samples_leaf)\n",
      "ValueError: min_samples_leaf must be at least 1 or in (0, 0.5], got 0\n",
      "\n",
      "  FitFailedWarning)\n",
      "c:\\users\\hp\\pycharmprojects\\test1\\venv\\lib\\site-packages\\sklearn\\model_selection\\_validation.py:552: FitFailedWarning: Estimator fit failed. The score on this train-test partition for these parameters will be set to nan. Details: \n",
      "Traceback (most recent call last):\n",
      "  File \"c:\\users\\hp\\pycharmprojects\\test1\\venv\\lib\\site-packages\\sklearn\\model_selection\\_validation.py\", line 531, in _fit_and_score\n",
      "    estimator.fit(X_train, y_train, **fit_params)\n",
      "  File \"c:\\users\\hp\\pycharmprojects\\test1\\venv\\lib\\site-packages\\sklearn\\ensemble\\_gb.py\", line 500, in fit\n",
      "    sample_weight_val, begin_at_stage, monitor, X_idx_sorted)\n",
      "  File \"c:\\users\\hp\\pycharmprojects\\test1\\venv\\lib\\site-packages\\sklearn\\ensemble\\_gb.py\", line 557, in _fit_stages\n",
      "    random_state, X_idx_sorted, X_csc, X_csr)\n",
      "  File \"c:\\users\\hp\\pycharmprojects\\test1\\venv\\lib\\site-packages\\sklearn\\ensemble\\_gb.py\", line 212, in _fit_stage\n",
      "    check_input=False, X_idx_sorted=X_idx_sorted)\n",
      "  File \"c:\\users\\hp\\pycharmprojects\\test1\\venv\\lib\\site-packages\\sklearn\\tree\\_classes.py\", line 1246, in fit\n",
      "    X_idx_sorted=X_idx_sorted)\n",
      "  File \"c:\\users\\hp\\pycharmprojects\\test1\\venv\\lib\\site-packages\\sklearn\\tree\\_classes.py\", line 217, in fit\n",
      "    % self.min_samples_leaf)\n",
      "ValueError: min_samples_leaf must be at least 1 or in (0, 0.5], got 0\n",
      "\n",
      "  FitFailedWarning)\n",
      "c:\\users\\hp\\pycharmprojects\\test1\\venv\\lib\\site-packages\\sklearn\\model_selection\\_validation.py:552: FitFailedWarning: Estimator fit failed. The score on this train-test partition for these parameters will be set to nan. Details: \n",
      "Traceback (most recent call last):\n",
      "  File \"c:\\users\\hp\\pycharmprojects\\test1\\venv\\lib\\site-packages\\sklearn\\model_selection\\_validation.py\", line 531, in _fit_and_score\n",
      "    estimator.fit(X_train, y_train, **fit_params)\n",
      "  File \"c:\\users\\hp\\pycharmprojects\\test1\\venv\\lib\\site-packages\\sklearn\\ensemble\\_gb.py\", line 500, in fit\n",
      "    sample_weight_val, begin_at_stage, monitor, X_idx_sorted)\n",
      "  File \"c:\\users\\hp\\pycharmprojects\\test1\\venv\\lib\\site-packages\\sklearn\\ensemble\\_gb.py\", line 557, in _fit_stages\n",
      "    random_state, X_idx_sorted, X_csc, X_csr)\n",
      "  File \"c:\\users\\hp\\pycharmprojects\\test1\\venv\\lib\\site-packages\\sklearn\\ensemble\\_gb.py\", line 212, in _fit_stage\n",
      "    check_input=False, X_idx_sorted=X_idx_sorted)\n",
      "  File \"c:\\users\\hp\\pycharmprojects\\test1\\venv\\lib\\site-packages\\sklearn\\tree\\_classes.py\", line 1246, in fit\n",
      "    X_idx_sorted=X_idx_sorted)\n",
      "  File \"c:\\users\\hp\\pycharmprojects\\test1\\venv\\lib\\site-packages\\sklearn\\tree\\_classes.py\", line 217, in fit\n",
      "    % self.min_samples_leaf)\n",
      "ValueError: min_samples_leaf must be at least 1 or in (0, 0.5], got 0\n",
      "\n",
      "  FitFailedWarning)\n",
      "c:\\users\\hp\\pycharmprojects\\test1\\venv\\lib\\site-packages\\sklearn\\model_selection\\_validation.py:552: FitFailedWarning: Estimator fit failed. The score on this train-test partition for these parameters will be set to nan. Details: \n",
      "Traceback (most recent call last):\n",
      "  File \"c:\\users\\hp\\pycharmprojects\\test1\\venv\\lib\\site-packages\\sklearn\\model_selection\\_validation.py\", line 531, in _fit_and_score\n",
      "    estimator.fit(X_train, y_train, **fit_params)\n",
      "  File \"c:\\users\\hp\\pycharmprojects\\test1\\venv\\lib\\site-packages\\sklearn\\ensemble\\_gb.py\", line 500, in fit\n",
      "    sample_weight_val, begin_at_stage, monitor, X_idx_sorted)\n",
      "  File \"c:\\users\\hp\\pycharmprojects\\test1\\venv\\lib\\site-packages\\sklearn\\ensemble\\_gb.py\", line 557, in _fit_stages\n",
      "    random_state, X_idx_sorted, X_csc, X_csr)\n",
      "  File \"c:\\users\\hp\\pycharmprojects\\test1\\venv\\lib\\site-packages\\sklearn\\ensemble\\_gb.py\", line 212, in _fit_stage\n",
      "    check_input=False, X_idx_sorted=X_idx_sorted)\n",
      "  File \"c:\\users\\hp\\pycharmprojects\\test1\\venv\\lib\\site-packages\\sklearn\\tree\\_classes.py\", line 1246, in fit\n",
      "    X_idx_sorted=X_idx_sorted)\n",
      "  File \"c:\\users\\hp\\pycharmprojects\\test1\\venv\\lib\\site-packages\\sklearn\\tree\\_classes.py\", line 217, in fit\n",
      "    % self.min_samples_leaf)\n",
      "ValueError: min_samples_leaf must be at least 1 or in (0, 0.5], got 0\n",
      "\n",
      "  FitFailedWarning)\n",
      "c:\\users\\hp\\pycharmprojects\\test1\\venv\\lib\\site-packages\\sklearn\\model_selection\\_validation.py:552: FitFailedWarning: Estimator fit failed. The score on this train-test partition for these parameters will be set to nan. Details: \n",
      "Traceback (most recent call last):\n",
      "  File \"c:\\users\\hp\\pycharmprojects\\test1\\venv\\lib\\site-packages\\sklearn\\model_selection\\_validation.py\", line 531, in _fit_and_score\n",
      "    estimator.fit(X_train, y_train, **fit_params)\n",
      "  File \"c:\\users\\hp\\pycharmprojects\\test1\\venv\\lib\\site-packages\\sklearn\\ensemble\\_gb.py\", line 500, in fit\n",
      "    sample_weight_val, begin_at_stage, monitor, X_idx_sorted)\n",
      "  File \"c:\\users\\hp\\pycharmprojects\\test1\\venv\\lib\\site-packages\\sklearn\\ensemble\\_gb.py\", line 557, in _fit_stages\n",
      "    random_state, X_idx_sorted, X_csc, X_csr)\n",
      "  File \"c:\\users\\hp\\pycharmprojects\\test1\\venv\\lib\\site-packages\\sklearn\\ensemble\\_gb.py\", line 212, in _fit_stage\n",
      "    check_input=False, X_idx_sorted=X_idx_sorted)\n",
      "  File \"c:\\users\\hp\\pycharmprojects\\test1\\venv\\lib\\site-packages\\sklearn\\tree\\_classes.py\", line 1246, in fit\n",
      "    X_idx_sorted=X_idx_sorted)\n",
      "  File \"c:\\users\\hp\\pycharmprojects\\test1\\venv\\lib\\site-packages\\sklearn\\tree\\_classes.py\", line 217, in fit\n",
      "    % self.min_samples_leaf)\n",
      "ValueError: min_samples_leaf must be at least 1 or in (0, 0.5], got 0\n",
      "\n",
      "  FitFailedWarning)\n",
      "c:\\users\\hp\\pycharmprojects\\test1\\venv\\lib\\site-packages\\sklearn\\model_selection\\_validation.py:552: FitFailedWarning: Estimator fit failed. The score on this train-test partition for these parameters will be set to nan. Details: \n",
      "Traceback (most recent call last):\n",
      "  File \"c:\\users\\hp\\pycharmprojects\\test1\\venv\\lib\\site-packages\\sklearn\\model_selection\\_validation.py\", line 531, in _fit_and_score\n",
      "    estimator.fit(X_train, y_train, **fit_params)\n",
      "  File \"c:\\users\\hp\\pycharmprojects\\test1\\venv\\lib\\site-packages\\sklearn\\ensemble\\_gb.py\", line 500, in fit\n",
      "    sample_weight_val, begin_at_stage, monitor, X_idx_sorted)\n",
      "  File \"c:\\users\\hp\\pycharmprojects\\test1\\venv\\lib\\site-packages\\sklearn\\ensemble\\_gb.py\", line 557, in _fit_stages\n",
      "    random_state, X_idx_sorted, X_csc, X_csr)\n",
      "  File \"c:\\users\\hp\\pycharmprojects\\test1\\venv\\lib\\site-packages\\sklearn\\ensemble\\_gb.py\", line 212, in _fit_stage\n",
      "    check_input=False, X_idx_sorted=X_idx_sorted)\n",
      "  File \"c:\\users\\hp\\pycharmprojects\\test1\\venv\\lib\\site-packages\\sklearn\\tree\\_classes.py\", line 1246, in fit\n",
      "    X_idx_sorted=X_idx_sorted)\n",
      "  File \"c:\\users\\hp\\pycharmprojects\\test1\\venv\\lib\\site-packages\\sklearn\\tree\\_classes.py\", line 217, in fit\n",
      "    % self.min_samples_leaf)\n",
      "ValueError: min_samples_leaf must be at least 1 or in (0, 0.5], got 0\n",
      "\n",
      "  FitFailedWarning)\n",
      "c:\\users\\hp\\pycharmprojects\\test1\\venv\\lib\\site-packages\\sklearn\\model_selection\\_validation.py:552: FitFailedWarning: Estimator fit failed. The score on this train-test partition for these parameters will be set to nan. Details: \n",
      "Traceback (most recent call last):\n",
      "  File \"c:\\users\\hp\\pycharmprojects\\test1\\venv\\lib\\site-packages\\sklearn\\model_selection\\_validation.py\", line 531, in _fit_and_score\n",
      "    estimator.fit(X_train, y_train, **fit_params)\n",
      "  File \"c:\\users\\hp\\pycharmprojects\\test1\\venv\\lib\\site-packages\\sklearn\\ensemble\\_gb.py\", line 500, in fit\n",
      "    sample_weight_val, begin_at_stage, monitor, X_idx_sorted)\n",
      "  File \"c:\\users\\hp\\pycharmprojects\\test1\\venv\\lib\\site-packages\\sklearn\\ensemble\\_gb.py\", line 557, in _fit_stages\n",
      "    random_state, X_idx_sorted, X_csc, X_csr)\n",
      "  File \"c:\\users\\hp\\pycharmprojects\\test1\\venv\\lib\\site-packages\\sklearn\\ensemble\\_gb.py\", line 212, in _fit_stage\n",
      "    check_input=False, X_idx_sorted=X_idx_sorted)\n",
      "  File \"c:\\users\\hp\\pycharmprojects\\test1\\venv\\lib\\site-packages\\sklearn\\tree\\_classes.py\", line 1246, in fit\n",
      "    X_idx_sorted=X_idx_sorted)\n",
      "  File \"c:\\users\\hp\\pycharmprojects\\test1\\venv\\lib\\site-packages\\sklearn\\tree\\_classes.py\", line 217, in fit\n",
      "    % self.min_samples_leaf)\n",
      "ValueError: min_samples_leaf must be at least 1 or in (0, 0.5], got 0\n",
      "\n",
      "  FitFailedWarning)\n",
      "c:\\users\\hp\\pycharmprojects\\test1\\venv\\lib\\site-packages\\sklearn\\model_selection\\_validation.py:552: FitFailedWarning: Estimator fit failed. The score on this train-test partition for these parameters will be set to nan. Details: \n",
      "Traceback (most recent call last):\n",
      "  File \"c:\\users\\hp\\pycharmprojects\\test1\\venv\\lib\\site-packages\\sklearn\\model_selection\\_validation.py\", line 531, in _fit_and_score\n",
      "    estimator.fit(X_train, y_train, **fit_params)\n",
      "  File \"c:\\users\\hp\\pycharmprojects\\test1\\venv\\lib\\site-packages\\sklearn\\ensemble\\_gb.py\", line 500, in fit\n",
      "    sample_weight_val, begin_at_stage, monitor, X_idx_sorted)\n",
      "  File \"c:\\users\\hp\\pycharmprojects\\test1\\venv\\lib\\site-packages\\sklearn\\ensemble\\_gb.py\", line 557, in _fit_stages\n",
      "    random_state, X_idx_sorted, X_csc, X_csr)\n",
      "  File \"c:\\users\\hp\\pycharmprojects\\test1\\venv\\lib\\site-packages\\sklearn\\ensemble\\_gb.py\", line 212, in _fit_stage\n",
      "    check_input=False, X_idx_sorted=X_idx_sorted)\n",
      "  File \"c:\\users\\hp\\pycharmprojects\\test1\\venv\\lib\\site-packages\\sklearn\\tree\\_classes.py\", line 1246, in fit\n",
      "    X_idx_sorted=X_idx_sorted)\n",
      "  File \"c:\\users\\hp\\pycharmprojects\\test1\\venv\\lib\\site-packages\\sklearn\\tree\\_classes.py\", line 217, in fit\n",
      "    % self.min_samples_leaf)\n",
      "ValueError: min_samples_leaf must be at least 1 or in (0, 0.5], got 0\n",
      "\n",
      "  FitFailedWarning)\n",
      "c:\\users\\hp\\pycharmprojects\\test1\\venv\\lib\\site-packages\\sklearn\\model_selection\\_validation.py:552: FitFailedWarning: Estimator fit failed. The score on this train-test partition for these parameters will be set to nan. Details: \n",
      "Traceback (most recent call last):\n",
      "  File \"c:\\users\\hp\\pycharmprojects\\test1\\venv\\lib\\site-packages\\sklearn\\model_selection\\_validation.py\", line 531, in _fit_and_score\n",
      "    estimator.fit(X_train, y_train, **fit_params)\n",
      "  File \"c:\\users\\hp\\pycharmprojects\\test1\\venv\\lib\\site-packages\\sklearn\\ensemble\\_gb.py\", line 500, in fit\n",
      "    sample_weight_val, begin_at_stage, monitor, X_idx_sorted)\n",
      "  File \"c:\\users\\hp\\pycharmprojects\\test1\\venv\\lib\\site-packages\\sklearn\\ensemble\\_gb.py\", line 557, in _fit_stages\n",
      "    random_state, X_idx_sorted, X_csc, X_csr)\n",
      "  File \"c:\\users\\hp\\pycharmprojects\\test1\\venv\\lib\\site-packages\\sklearn\\ensemble\\_gb.py\", line 212, in _fit_stage\n",
      "    check_input=False, X_idx_sorted=X_idx_sorted)\n",
      "  File \"c:\\users\\hp\\pycharmprojects\\test1\\venv\\lib\\site-packages\\sklearn\\tree\\_classes.py\", line 1246, in fit\n",
      "    X_idx_sorted=X_idx_sorted)\n",
      "  File \"c:\\users\\hp\\pycharmprojects\\test1\\venv\\lib\\site-packages\\sklearn\\tree\\_classes.py\", line 217, in fit\n",
      "    % self.min_samples_leaf)\n",
      "ValueError: min_samples_leaf must be at least 1 or in (0, 0.5], got 0\n",
      "\n",
      "  FitFailedWarning)\n"
     ]
    },
    {
     "data": {
      "text/plain": [
       "GridSearchCV(cv=10, estimator=GradientBoostingClassifier(learning_rate=1.0),\n",
       "             param_grid={'max_depth': [6, 8, 10],\n",
       "                         'min_samples_leaf': [0, 2, 4]},\n",
       "             scoring='f1')"
      ]
     },
     "execution_count": 52,
     "metadata": {},
     "output_type": "execute_result"
    }
   ],
   "source": [
    "from sklearn.model_selection import GridSearchCV\n",
    "#params={'n_estimators':[x for x in range(200,300,10)], 'max_depth':[x for x in range(1,10,1)],'min_samples_leaf':[x for x in range(1,10,1)],'class_weight':list('balanced')}\n",
    "params={'max_depth':[x for x in range(6,11,2)], 'min_samples_leaf':[x for x in range(0,6,2)]}\n",
    "gbc= GradientBoostingClassifier(n_estimators=100,learning_rate=1.0)\n",
    "grid = GridSearchCV(gbc, params, cv=10, scoring=\"f1\")\n",
    "grid.fit(XData,YData)"
   ]
  },
  {
   "cell_type": "code",
   "execution_count": 53,
   "metadata": {},
   "outputs": [
    {
     "data": {
      "text/plain": [
       "0.24866282428691294"
      ]
     },
     "execution_count": 53,
     "metadata": {},
     "output_type": "execute_result"
    }
   ],
   "source": [
    "grid.best_score_ "
   ]
  },
  {
   "cell_type": "code",
   "execution_count": 54,
   "metadata": {},
   "outputs": [
    {
     "data": {
      "text/plain": [
       "{'max_depth': 6, 'min_samples_leaf': 2}"
      ]
     },
     "execution_count": 54,
     "metadata": {},
     "output_type": "execute_result"
    }
   ],
   "source": [
    "grid.best_params_ "
   ]
  },
  {
   "cell_type": "code",
   "execution_count": 55,
   "metadata": {},
   "outputs": [
    {
     "data": {
      "text/plain": [
       "GradientBoostingClassifier(learning_rate=1.0, max_depth=6, min_samples_leaf=2)"
      ]
     },
     "execution_count": 55,
     "metadata": {},
     "output_type": "execute_result"
    }
   ],
   "source": [
    "grid.best_estimator_"
   ]
  },
  {
   "cell_type": "code",
   "execution_count": 56,
   "metadata": {},
   "outputs": [],
   "source": [
    "gbcbest_y_pred_fcst = grid.best_estimator_.predict(XData_fcst)"
   ]
  },
  {
   "cell_type": "code",
   "execution_count": 57,
   "metadata": {},
   "outputs": [
    {
     "data": {
      "text/plain": [
       "array([[1265,   71],\n",
       "       [ 108,   20]], dtype=int64)"
      ]
     },
     "execution_count": 57,
     "metadata": {},
     "output_type": "execute_result"
    }
   ],
   "source": [
    "# Confusion matrix for one year; after tuning paramters\n",
    "cmatrix_fcst = confusion_matrix(YData_fcst, gbcbest_y_pred_fcst)\n",
    "cmatrix_fcst"
   ]
  },
  {
   "cell_type": "code",
   "execution_count": 58,
   "metadata": {},
   "outputs": [
    {
     "name": "stdout",
     "output_type": "stream",
     "text": [
      "Forecast PSS =  0.1031062874251497\n"
     ]
    }
   ],
   "source": [
    "# Pierce Skill Score\n",
    "pss=((cmatrix_fcst[0,0] * cmatrix_fcst[1,1]) - (cmatrix_fcst[0,1] * cmatrix_fcst[1,0])) * 1.0 / ((cmatrix_fcst[1,1] + cmatrix_fcst[1,0]) * (cmatrix_fcst[0,1] + cmatrix_fcst[0,0]))\n",
    "print('Forecast PSS = ',pss)"
   ]
  },
  {
   "cell_type": "code",
   "execution_count": 59,
   "metadata": {},
   "outputs": [
    {
     "name": "stdout",
     "output_type": "stream",
     "text": [
      "Forecast FAR =  0.7802197802197802\n"
     ]
    }
   ],
   "source": [
    "# False Alarm Ratio\n",
    "far=(cmatrix_fcst[0,1] * 1.0) / (cmatrix_fcst[0,1] + cmatrix_fcst[1,1])\n",
    "print('Forecast FAR = ',far)"
   ]
  },
  {
   "cell_type": "code",
   "execution_count": 60,
   "metadata": {},
   "outputs": [
    {
     "name": "stdout",
     "output_type": "stream",
     "text": [
      "Forecast POD =  0.15625\n"
     ]
    }
   ],
   "source": [
    "# Probability of Detection\n",
    "pod=(cmatrix_fcst[1,1] * 1.0) / (cmatrix_fcst[1,0] + cmatrix_fcst[1,1]) \n",
    "print('Forecast POD = ',pod)"
   ]
  },
  {
   "cell_type": "code",
   "execution_count": 34,
   "metadata": {},
   "outputs": [],
   "source": [
    "# Data within forecast years\n",
    "data_fcst = ships[(ships['YEAR']>=year_fcst[0]) & (ships['YEAR']<=year_fcst[1])]\n",
    "#data_fcst\n",
    "\n",
    "# All predictors for forecast\n",
    "XData_fcst = data_fcst[PredictorName]\n",
    "#XData_fcst\n",
    "\n",
    "# All truth of predictand for forecast\n",
    "YData_fcst = data_fcst['TAR']\n",
    "#YData_fcst\n",
    "\n",
    "# Predict class for x\n",
    "gbc_y_pred_fcst = gbc.predict(XData_fcst)\n",
    "#y_pred_fcst"
   ]
  },
  {
   "cell_type": "code",
   "execution_count": 35,
   "metadata": {},
   "outputs": [
    {
     "data": {
      "text/plain": [
       "array([[1307,   29],\n",
       "       [ 114,   14]], dtype=int64)"
      ]
     },
     "execution_count": 35,
     "metadata": {},
     "output_type": "execute_result"
    }
   ],
   "source": [
    "# Confusion matrix for one year\n",
    "cmatrix_fcst = confusion_matrix(YData_fcst, gbc_y_pred_fcst)\n",
    "cmatrix_fcst"
   ]
  },
  {
   "cell_type": "code",
   "execution_count": 36,
   "metadata": {},
   "outputs": [
    {
     "name": "stdout",
     "output_type": "stream",
     "text": [
      "Forecast PSS =  0.08766841317365269\n"
     ]
    }
   ],
   "source": [
    "# Pierce Skill Score\n",
    "pss=((cmatrix_fcst[0,0] * cmatrix_fcst[1,1]) - (cmatrix_fcst[0,1] * cmatrix_fcst[1,0])) * 1.0 / ((cmatrix_fcst[1,1] + cmatrix_fcst[1,0]) * (cmatrix_fcst[0,1] + cmatrix_fcst[0,0]))\n",
    "print('Forecast PSS = ',pss)"
   ]
  },
  {
   "cell_type": "code",
   "execution_count": 37,
   "metadata": {},
   "outputs": [
    {
     "name": "stdout",
     "output_type": "stream",
     "text": [
      "Forecast FAR =  0.6744186046511628\n"
     ]
    }
   ],
   "source": [
    "# False Alarm Ratio\n",
    "far=(cmatrix_fcst[0,1] * 1.0) / (cmatrix_fcst[0,1] + cmatrix_fcst[1,1])\n",
    "print('Forecast FAR = ',far)"
   ]
  },
  {
   "cell_type": "code",
   "execution_count": 38,
   "metadata": {},
   "outputs": [
    {
     "name": "stdout",
     "output_type": "stream",
     "text": [
      "Forecast POD =  0.109375\n"
     ]
    }
   ],
   "source": [
    "# Probability of Detection\n",
    "pod=(cmatrix_fcst[1,1] * 1.0) / (cmatrix_fcst[1,0] + cmatrix_fcst[1,1]) \n",
    "print('Forecast POD = ',pod)"
   ]
  },
  {
   "cell_type": "markdown",
   "metadata": {},
   "source": [
    "### Logistic regression"
   ]
  },
  {
   "cell_type": "code",
   "execution_count": 45,
   "metadata": {},
   "outputs": [],
   "source": [
    "# Variable names for predictors\n",
    "PredictorName=['PER','SHRD','D200','TPW','PC2','SDBT','POT','OHC']\n",
    "# Data within training and validating years\n",
    "data_train = ships[(ships['YEAR']>=year_train[0]) & (ships['YEAR']<=year_train[1])]\n",
    "\n",
    "# All predictors for training and validating\n",
    "XData = data_train[PredictorName]\n",
    "\n",
    "# All predictand for training and validating\n",
    "YData = data_train['TAR']"
   ]
  },
  {
   "cell_type": "code",
   "execution_count": 46,
   "metadata": {},
   "outputs": [
    {
     "data": {
      "text/plain": [
       "LogisticRegression(class_weight='balanced')"
      ]
     },
     "execution_count": 46,
     "metadata": {},
     "output_type": "execute_result"
    }
   ],
   "source": [
    "# logistic regression\n",
    "import sklearn.linear_model as sk_linear\n",
    "#logReg = sk_linear.LogisticRegression(penalty='l2',dual=False,C=1.0,n_jobs=1,random_state=20,fit_intercept=True)\n",
    "logReg = sk_linear.LogisticRegression(class_weight='balanced')\n",
    "logReg.fit(XData,YData)"
   ]
  },
  {
   "cell_type": "code",
   "execution_count": 47,
   "metadata": {},
   "outputs": [],
   "source": [
    "# Data within forecast years\n",
    "data_fcst = ships[(ships['YEAR']>=year_fcst[0]) & (ships['YEAR']<=year_fcst[1])]\n",
    "#data_fcst\n",
    "\n",
    "# All predictors for forecast\n",
    "XData_fcst = data_fcst[PredictorName]\n",
    "#XData_fcst\n",
    "\n",
    "# All truth of predictand for forecast\n",
    "YData_fcst = data_fcst['TAR']\n",
    "#YData_fcst\n",
    "\n",
    "# Predict class for x\n",
    "logReg_y_pred_fcst = logReg.predict(XData_fcst)\n",
    "#y_pred_fcst"
   ]
  },
  {
   "cell_type": "code",
   "execution_count": 48,
   "metadata": {},
   "outputs": [
    {
     "data": {
      "text/plain": [
       "array([[933, 403],\n",
       "       [ 43,  85]], dtype=int64)"
      ]
     },
     "execution_count": 48,
     "metadata": {},
     "output_type": "execute_result"
    }
   ],
   "source": [
    "# Confusion matrix for one year\n",
    "cmatrix_fcst = confusion_matrix(YData_fcst, logReg_y_pred_fcst)\n",
    "cmatrix_fcst"
   ]
  },
  {
   "cell_type": "code",
   "execution_count": 49,
   "metadata": {},
   "outputs": [
    {
     "name": "stdout",
     "output_type": "stream",
     "text": [
      "Forecast PSS =  0.36241579341317365\n"
     ]
    }
   ],
   "source": [
    "# Pierce Skill Score\n",
    "pss=((cmatrix_fcst[0,0] * cmatrix_fcst[1,1]) - (cmatrix_fcst[0,1] * cmatrix_fcst[1,0])) * 1.0 / ((cmatrix_fcst[1,1] + cmatrix_fcst[1,0]) * (cmatrix_fcst[0,1] + cmatrix_fcst[0,0]))\n",
    "print('Forecast PSS = ',pss)"
   ]
  },
  {
   "cell_type": "code",
   "execution_count": 50,
   "metadata": {},
   "outputs": [
    {
     "name": "stdout",
     "output_type": "stream",
     "text": [
      "Forecast FAR =  0.8258196721311475\n"
     ]
    }
   ],
   "source": [
    "# False Alarm Ratio\n",
    "far=(cmatrix_fcst[0,1] * 1.0) / (cmatrix_fcst[0,1] + cmatrix_fcst[1,1])\n",
    "print('Forecast FAR = ',far)"
   ]
  },
  {
   "cell_type": "code",
   "execution_count": 51,
   "metadata": {},
   "outputs": [
    {
     "name": "stdout",
     "output_type": "stream",
     "text": [
      "Forecast POD =  0.6640625\n"
     ]
    }
   ],
   "source": [
    "# Probability of Detection\n",
    "pod=(cmatrix_fcst[1,1] * 1.0) / (cmatrix_fcst[1,0] + cmatrix_fcst[1,1]) \n",
    "print('Forecast POD = ',pod)"
   ]
  },
  {
   "cell_type": "markdown",
   "metadata": {},
   "source": [
    "### SVM"
   ]
  },
  {
   "cell_type": "code",
   "execution_count": 61,
   "metadata": {},
   "outputs": [],
   "source": [
    "# Variable names for predictors\n",
    "PredictorName=['PER','SHRD','D200','TPW','PC2','SDBT','POT','OHC','VMX0']\n",
    "# Data within training and validating years\n",
    "data_train = ships[(ships['YEAR']>=year_train[0]) & (ships['YEAR']<=year_train[1])]\n",
    "\n",
    "# All predictors for training and validating\n",
    "XData = data_train[PredictorName]\n",
    "\n",
    "# All predictand for training and validating\n",
    "YData = data_train['TAR']"
   ]
  },
  {
   "cell_type": "code",
   "execution_count": 62,
   "metadata": {},
   "outputs": [
    {
     "data": {
      "text/plain": [
       "SVC(gamma='auto')"
      ]
     },
     "execution_count": 62,
     "metadata": {},
     "output_type": "execute_result"
    }
   ],
   "source": [
    "import sklearn.svm as sk_svm\n",
    "svm = sk_svm.SVC(C=1.0,kernel='rbf',gamma='auto')\n",
    "svm.fit(XData,YData)\n",
    "#acc=model.score(X_test,y_test) #根据给定数据与标签返回正确率的均值\n",
    "#print('SVM模型评价:',acc)"
   ]
  },
  {
   "cell_type": "code",
   "execution_count": 63,
   "metadata": {},
   "outputs": [],
   "source": [
    "# Data within forecast years\n",
    "data_fcst = ships[(ships['YEAR']>=year_fcst[0]) & (ships['YEAR']<=year_fcst[1])]\n",
    "#data_fcst\n",
    "\n",
    "# All predictors for forecast\n",
    "XData_fcst = data_fcst[PredictorName]\n",
    "#XData_fcst\n",
    "\n",
    "# All truth of predictand for forecast\n",
    "YData_fcst = data_fcst['TAR']\n",
    "#YData_fcst\n",
    "\n",
    "# Predict class for x\n",
    "svm_y_pred_fcst = svm.predict(XData_fcst)\n",
    "#y_pred_fcst"
   ]
  },
  {
   "cell_type": "code",
   "execution_count": 64,
   "metadata": {},
   "outputs": [
    {
     "data": {
      "text/plain": [
       "array([[1336,    0],\n",
       "       [ 128,    0]], dtype=int64)"
      ]
     },
     "execution_count": 64,
     "metadata": {},
     "output_type": "execute_result"
    }
   ],
   "source": [
    "# Confusion matrix for one year\n",
    "cmatrix_fcst = confusion_matrix(YData_fcst, svm_y_pred_fcst)\n",
    "cmatrix_fcst"
   ]
  },
  {
   "cell_type": "code",
   "execution_count": 65,
   "metadata": {},
   "outputs": [
    {
     "name": "stdout",
     "output_type": "stream",
     "text": [
      "Forecast PSS =  0.0\n"
     ]
    }
   ],
   "source": [
    "# Pierce Skill Score\n",
    "pss=((cmatrix_fcst[0,0] * cmatrix_fcst[1,1]) - (cmatrix_fcst[0,1] * cmatrix_fcst[1,0])) * 1.0 / ((cmatrix_fcst[1,1] + cmatrix_fcst[1,0]) * (cmatrix_fcst[0,1] + cmatrix_fcst[0,0]))\n",
    "print('Forecast PSS = ',pss)"
   ]
  },
  {
   "cell_type": "code",
   "execution_count": 66,
   "metadata": {},
   "outputs": [
    {
     "name": "stdout",
     "output_type": "stream",
     "text": [
      "Forecast FAR =  nan\n"
     ]
    },
    {
     "name": "stderr",
     "output_type": "stream",
     "text": [
      "c:\\users\\hp\\pycharmprojects\\test1\\venv\\lib\\site-packages\\ipykernel_launcher.py:2: RuntimeWarning: invalid value encountered in double_scalars\n",
      "  \n"
     ]
    }
   ],
   "source": [
    "# False Alarm Ratio\n",
    "far=(cmatrix_fcst[0,1] * 1.0) / (cmatrix_fcst[0,1] + cmatrix_fcst[1,1])\n",
    "print('Forecast FAR = ',far)"
   ]
  },
  {
   "cell_type": "code",
   "execution_count": 67,
   "metadata": {},
   "outputs": [
    {
     "name": "stdout",
     "output_type": "stream",
     "text": [
      "Forecast POD =  0.0\n"
     ]
    }
   ],
   "source": [
    "# Probability of Detection\n",
    "pod=(cmatrix_fcst[1,1] * 1.0) / (cmatrix_fcst[1,0] + cmatrix_fcst[1,1]) \n",
    "print('Forecast POD = ',pod)"
   ]
  },
  {
   "cell_type": "code",
   "execution_count": null,
   "metadata": {},
   "outputs": [],
   "source": []
  }
 ],
 "metadata": {
  "kernelspec": {
   "display_name": "Python 3",
   "language": "python",
   "name": "python3"
  },
  "language_info": {
   "codemirror_mode": {
    "name": "ipython",
    "version": 3
   },
   "file_extension": ".py",
   "mimetype": "text/x-python",
   "name": "python",
   "nbconvert_exporter": "python",
   "pygments_lexer": "ipython3",
   "version": "3.7.4"
  }
 },
 "nbformat": 4,
 "nbformat_minor": 4
}
